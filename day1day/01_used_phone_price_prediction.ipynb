{
  "nbformat": 4,
  "nbformat_minor": 0,
  "metadata": {
    "kernelspec": {
      "display_name": "Python 3",
      "language": "python",
      "name": "python3"
    },
    "language_info": {
      "codemirror_mode": {
        "name": "ipython",
        "version": 3
      },
      "file_extension": ".py",
      "mimetype": "text/x-python",
      "name": "python",
      "nbconvert_exporter": "python",
      "pygments_lexer": "ipython3",
      "version": "3.8.10"
    },
    "toc": {
      "base_numbering": 1,
      "nav_menu": {},
      "number_sections": true,
      "sideBar": true,
      "skip_h1_title": false,
      "title_cell": "Table of Contents",
      "title_sidebar": "Contents",
      "toc_cell": false,
      "toc_position": {
        "height": "calc(100% - 180px)",
        "left": "10px",
        "top": "150px",
        "width": "384px"
      },
      "toc_section_display": true,
      "toc_window_display": true
    },
    "colab": {
      "name": "01-used-phone-price-prediction.ipynb",
      "provenance": [],
      "collapsed_sections": [],
      "include_colab_link": true
    },
    "accelerator": "GPU"
  },
  "cells": [
    {
      "cell_type": "markdown",
      "metadata": {
        "id": "view-in-github",
        "colab_type": "text"
      },
      "source": [
        "<a href=\"https://colab.research.google.com/github/JJIMINSHIN/PYPY/blob/main/01_used_phone_price_prediction.ipynb\" target=\"_parent\"><img src=\"https://colab.research.google.com/assets/colab-badge.svg\" alt=\"Open In Colab\"/></a>"
      ]
    },
    {
      "cell_type": "markdown",
      "metadata": {
        "id": "otHrPDFVnwAM"
      },
      "source": [
        "#환경 세팅"
      ]
    },
    {
      "cell_type": "code",
      "metadata": {
        "colab": {
          "base_uri": "https://localhost:8080/"
        },
        "id": "GdAa20xaoQAK",
        "outputId": "eb043ee9-aa7e-412c-e8b1-a1fb6ff34827"
      },
      "source": [
        "!nvidia-smi"
      ],
      "execution_count": 1,
      "outputs": [
        {
          "output_type": "stream",
          "name": "stdout",
          "text": [
            "Thu Nov  4 06:10:05 2021       \n",
            "+-----------------------------------------------------------------------------+\n",
            "| NVIDIA-SMI 495.44       Driver Version: 460.32.03    CUDA Version: 11.2     |\n",
            "|-------------------------------+----------------------+----------------------+\n",
            "| GPU  Name        Persistence-M| Bus-Id        Disp.A | Volatile Uncorr. ECC |\n",
            "| Fan  Temp  Perf  Pwr:Usage/Cap|         Memory-Usage | GPU-Util  Compute M. |\n",
            "|                               |                      |               MIG M. |\n",
            "|===============================+======================+======================|\n",
            "|   0  Tesla K80           Off  | 00000000:00:04.0 Off |                    0 |\n",
            "| N/A   69C    P8    32W / 149W |      0MiB / 11441MiB |      0%      Default |\n",
            "|                               |                      |                  N/A |\n",
            "+-------------------------------+----------------------+----------------------+\n",
            "                                                                               \n",
            "+-----------------------------------------------------------------------------+\n",
            "| Processes:                                                                  |\n",
            "|  GPU   GI   CI        PID   Type   Process name                  GPU Memory |\n",
            "|        ID   ID                                                   Usage      |\n",
            "|=============================================================================|\n",
            "|  No running processes found                                                 |\n",
            "+-----------------------------------------------------------------------------+\n"
          ]
        }
      ]
    },
    {
      "cell_type": "code",
      "metadata": {
        "colab": {
          "base_uri": "https://localhost:8080/"
        },
        "id": "zyi6A_MroCIb",
        "outputId": "ac6f9733-5973-4d9b-b105-ec9613c2b12b"
      },
      "source": [
        "from google.colab import drive\n",
        "drive.mount('./content/')"
      ],
      "execution_count": 3,
      "outputs": [
        {
          "output_type": "stream",
          "name": "stdout",
          "text": [
            "Drive already mounted at ./content/; to attempt to forcibly remount, call drive.mount(\"./content/\", force_remount=True).\n"
          ]
        }
      ]
    },
    {
      "cell_type": "code",
      "metadata": {
        "colab": {
          "base_uri": "https://localhost:8080/"
        },
        "id": "fH445rEPok7g",
        "outputId": "45449060-2e90-445d-b1f8-6df64117cbd3"
      },
      "source": [
        "# 디렉토리명 변경\n",
        "%cd /content/content/MyDrive/new"
      ],
      "execution_count": 4,
      "outputs": [
        {
          "output_type": "stream",
          "name": "stdout",
          "text": [
            "/content/content/MyDrive/new\n"
          ]
        }
      ]
    },
    {
      "cell_type": "markdown",
      "metadata": {
        "id": "b1gStm4ZnwAM"
      },
      "source": [
        "-----"
      ]
    },
    {
      "cell_type": "markdown",
      "metadata": {
        "id": "uSpmKm-dnwAN"
      },
      "source": [
        "# 5.1) 중고나라 핸드폰 거래가격 예측하기"
      ]
    },
    {
      "cell_type": "markdown",
      "metadata": {
        "id": "Kq0F2DfvnwAN"
      },
      "source": [
        "### 바로가기"
      ]
    },
    {
      "cell_type": "markdown",
      "metadata": {
        "id": "iCFQhMywnwAO"
      },
      "source": [
        "- [<Step1. 탐색적 분석> : 중고나라 데이터 분석](#<Step1.-탐색적-분석>-:-중고나라-데이터-분석)\n",
        "    - [중고나라 데이터셋 살펴보기]\n",
        "    - [개별 피처 탐색하기]\n",
        "    - [Random forest regressor를 이용한 가격 예측]\n",
        "- [<Step2. 피처 엔지니어링> : 예측 모델 개선](#<Step2.-피처-엔지니어링>-:-예측-모델-개선)\n",
        "    - [기존 feature의 가공]\n",
        "- [<Step3. 예측> : 중고폰 거래가 예측](#<Step3.-예측>-:-중고폰-거래가-예측)\n",
        "    - [Random forest regressor 재학습]\n",
        "    - [최적의 모델 파라미터 찾기]\n",
        "- [<Step4. 프로토타입> : 얼마고(Almhago?)](#<Step4.-프로토타입>-:-얼마고(Almhago?))\n",
        "    - [재사용을 위한 파일 저장]\n",
        "    - [가격 예측 프로그램 만들기]"
      ]
    },
    {
      "cell_type": "markdown",
      "metadata": {
        "id": "Gp9nkg-QnwAO"
      },
      "source": [
        "-----"
      ]
    },
    {
      "cell_type": "code",
      "metadata": {
        "id": "M-3rsXGLnwAP"
      },
      "source": [
        "# -*- coding: utf-8 -*-\n",
        "\n",
        "%matplotlib inline\n",
        "\n",
        "import pandas as pd\n",
        "import numpy as np\n",
        "import matplotlib.pyplot as plt\n",
        "import seaborn as sns\n",
        "\n",
        "import warnings\n",
        "warnings.filterwarnings(\"ignore\")"
      ],
      "execution_count": 5,
      "outputs": []
    },
    {
      "cell_type": "markdown",
      "metadata": {
        "id": "yxBmZNPDnwAR"
      },
      "source": [
        "# <Step1. 탐색적 분석> : 중고나라 데이터 분석"
      ]
    },
    {
      "cell_type": "markdown",
      "metadata": {
        "id": "qZRz4dYynwAR"
      },
      "source": [
        "### [중고나라 데이터셋 살펴보기]"
      ]
    },
    {
      "cell_type": "code",
      "metadata": {
        "colab": {
          "base_uri": "https://localhost:8080/",
          "height": 644
        },
        "id": "dA_1WRLYnwAS",
        "outputId": "d1e5cdd6-de9b-4129-f3a0-24fd36d9a320"
      },
      "source": [
        "df = pd.read_csv(\"data/used_mobile_phone.csv\")\n",
        "print(df.info())\n",
        "df.head() #데이터 상단부 보여줌, 기본적으로 5줄 출력"
      ],
      "execution_count": 6,
      "outputs": [
        {
          "output_type": "stream",
          "name": "stdout",
          "text": [
            "<class 'pandas.core.frame.DataFrame'>\n",
            "RangeIndex: 4951 entries, 0 to 4950\n",
            "Data columns (total 7 columns):\n",
            " #   Column         Non-Null Count  Dtype  \n",
            "---  ------         --------------  -----  \n",
            " 0   create_date    4951 non-null   object \n",
            " 1   price          4951 non-null   float64\n",
            " 2   text           4951 non-null   object \n",
            " 3   phone_model    4951 non-null   object \n",
            " 4   factory_price  4951 non-null   int64  \n",
            " 5   maker          4951 non-null   object \n",
            " 6   price_index    4951 non-null   float64\n",
            "dtypes: float64(2), int64(1), object(4)\n",
            "memory usage: 270.9+ KB\n",
            "None\n"
          ]
        },
        {
          "output_type": "execute_result",
          "data": {
            "text/html": [
              "<div>\n",
              "<style scoped>\n",
              "    .dataframe tbody tr th:only-of-type {\n",
              "        vertical-align: middle;\n",
              "    }\n",
              "\n",
              "    .dataframe tbody tr th {\n",
              "        vertical-align: top;\n",
              "    }\n",
              "\n",
              "    .dataframe thead th {\n",
              "        text-align: right;\n",
              "    }\n",
              "</style>\n",
              "<table border=\"1\" class=\"dataframe\">\n",
              "  <thead>\n",
              "    <tr style=\"text-align: right;\">\n",
              "      <th></th>\n",
              "      <th>create_date</th>\n",
              "      <th>price</th>\n",
              "      <th>text</th>\n",
              "      <th>phone_model</th>\n",
              "      <th>factory_price</th>\n",
              "      <th>maker</th>\n",
              "      <th>price_index</th>\n",
              "    </tr>\n",
              "  </thead>\n",
              "  <tbody>\n",
              "    <tr>\n",
              "      <th>0</th>\n",
              "      <td>2017-03-19  4 35 00 PM</td>\n",
              "      <td>550000.0</td>\n",
              "      <td>아이폰6플러스 블랙+애플라이트 64기가 팝니다  아이폰6플러스 블랙+애플라이트 64...</td>\n",
              "      <td>iphone 6 64gb</td>\n",
              "      <td>924000</td>\n",
              "      <td>apple</td>\n",
              "      <td>95.96</td>\n",
              "    </tr>\n",
              "    <tr>\n",
              "      <th>1</th>\n",
              "      <td>2016-10-26  12 08 00 PM</td>\n",
              "      <td>380000.0</td>\n",
              "      <td>갤럭시s6엣지 32기가 팝니다 직거래  갤럭시s6엣지 32기가 품명 갤럭시s6엣지제...</td>\n",
              "      <td>galaxy s6 edge 32gb</td>\n",
              "      <td>979000</td>\n",
              "      <td>samsung</td>\n",
              "      <td>103.05</td>\n",
              "    </tr>\n",
              "    <tr>\n",
              "      <th>2</th>\n",
              "      <td>2016-10-25  12 52 00 PM</td>\n",
              "      <td>300000.0</td>\n",
              "      <td>갤럭시s6 풀박스로 팝니다~~~ 새상품급  실기스조차 없어요  직접거래 구매한지 1...</td>\n",
              "      <td>galaxy s6 32gb</td>\n",
              "      <td>854000</td>\n",
              "      <td>samsung</td>\n",
              "      <td>103.05</td>\n",
              "    </tr>\n",
              "    <tr>\n",
              "      <th>3</th>\n",
              "      <td>2017-03-23  11 14 00 PM</td>\n",
              "      <td>290000.0</td>\n",
              "      <td>sk  g5 티탄 폰 단품판매합니다  직접거래 sk g5 티탄 폰 단품판매합니다 올...</td>\n",
              "      <td>lg g5 32gb</td>\n",
              "      <td>836000</td>\n",
              "      <td>lg</td>\n",
              "      <td>95.96</td>\n",
              "    </tr>\n",
              "    <tr>\n",
              "      <th>4</th>\n",
              "      <td>2016-04-11  7 35 00 PM</td>\n",
              "      <td>280000.0</td>\n",
              "      <td>sony 엑스페리아 c5 ultra e5506 16gb  미사용 새제품 팝니다 1...</td>\n",
              "      <td>lg u 32gb</td>\n",
              "      <td>396000</td>\n",
              "      <td>lg</td>\n",
              "      <td>102.59</td>\n",
              "    </tr>\n",
              "  </tbody>\n",
              "</table>\n",
              "</div>"
            ],
            "text/plain": [
              "               create_date     price  ...    maker price_index\n",
              "0   2017-03-19  4 35 00 PM  550000.0  ...    apple       95.96\n",
              "1  2016-10-26  12 08 00 PM  380000.0  ...  samsung      103.05\n",
              "2  2016-10-25  12 52 00 PM  300000.0  ...  samsung      103.05\n",
              "3  2017-03-23  11 14 00 PM  290000.0  ...       lg       95.96\n",
              "4   2016-04-11  7 35 00 PM  280000.0  ...       lg      102.59\n",
              "\n",
              "[5 rows x 7 columns]"
            ]
          },
          "metadata": {},
          "execution_count": 6
        }
      ]
    },
    {
      "cell_type": "markdown",
      "metadata": {
        "id": "4_wp8pqbnwAT"
      },
      "source": [
        "-----"
      ]
    },
    {
      "cell_type": "markdown",
      "metadata": {
        "id": "t6BainiRnwAU"
      },
      "source": [
        "### [개별 피처 탐색하기]"
      ]
    },
    {
      "cell_type": "markdown",
      "metadata": {
        "id": "OfgDnGEEnwAU"
      },
      "source": [
        "##### date 피처 탐색"
      ]
    },
    {
      "cell_type": "code",
      "metadata": {
        "colab": {
          "base_uri": "https://localhost:8080/"
        },
        "id": "XnNpKL_vnwAU",
        "outputId": "95badaea-fc06-4d18-89e8-62565aa17a77"
      },
      "source": [
        "# create_date로부터 ‘월’을 의미하는 month 정보를 피처로 추출합니다.\n",
        "df['month'] = df['create_date'].apply(lambda x: x[:7])\n",
        "\n",
        "# 월별 거래 횟수를 계산하여 출력합니다.\n",
        "df['month'].value_counts()"
      ],
      "execution_count": 7,
      "outputs": [
        {
          "output_type": "execute_result",
          "data": {
            "text/plain": [
              "2016-10    2956\n",
              "2017-03    1311\n",
              "2016-08     107\n",
              "2016-09     105\n",
              "2016-04     102\n",
              "2016-05      89\n",
              "2016-06      76\n",
              "2016-07      74\n",
              "2016-03      70\n",
              "2016-02      61\n",
              "Name: month, dtype: int64"
            ]
          },
          "metadata": {},
          "execution_count": 7
        }
      ]
    },
    {
      "cell_type": "code",
      "metadata": {
        "colab": {
          "base_uri": "https://localhost:8080/",
          "height": 265
        },
        "id": "wipChgRTnwAV",
        "outputId": "142d0ec9-20c1-4488-de7e-fe8cb71af07e"
      },
      "source": [
        "# 일별 거래 횟수를 계산하여 그래프로 출력합니다.\n",
        "df_day = df['create_date'].apply(lambda x: x[:10]).value_counts()\n",
        "df_day.plot()\n",
        "plt.show()"
      ],
      "execution_count": 8,
      "outputs": [
        {
          "output_type": "display_data",
          "data": {
            "image/png": "[encoded data removed]",
            "text/plain": [
              "<Figure size 432x288 with 1 Axes>"
            ]
          },
          "metadata": {
            "needs_background": "light"
          }
        }
      ]
    },
    {
      "cell_type": "markdown",
      "metadata": {
        "id": "B0TH1-RMnwAV"
      },
      "source": [
        "-----"
      ]
    },
    {
      "cell_type": "markdown",
      "metadata": {
        "id": "QM9jpFphnwAV"
      },
      "source": [
        "##### 가격 피처 탐색"
      ]
    },
    {
      "cell_type": "code",
      "metadata": {
        "colab": {
          "base_uri": "https://localhost:8080/",
          "height": 296
        },
        "id": "BD2szpN7nwAW",
        "outputId": "e301630c-a858-4fa6-b768-770960700547"
      },
      "source": [
        "# 가격의 분포를 그래프로 탐색합니다.\n",
        "df['price'].hist(bins=\"auto\")"
      ],
      "execution_count": 9,
      "outputs": [
        {
          "output_type": "execute_result",
          "data": {
            "text/plain": [
              "<matplotlib.axes._subplots.AxesSubplot at 0x7f4db7eeab50>"
            ]
          },
          "metadata": {},
          "execution_count": 9
        },
        {
          "output_type": "display_data",
          "data": {
            "image/png": "[encoded data removed]",
            "text/plain": [
              "<Figure size 432x288 with 1 Axes>"
            ]
          },
          "metadata": {
            "needs_background": "light"
          }
        }
      ]
    },
    {
      "cell_type": "code",
      "metadata": {
        "id": "-QKmU-PtnwAW"
      },
      "source": [
        "# 핸드폰 기종(phone_model)별 가격의 평균과 표준편차를 계산합니다.\n",
        "df_price_model_mean = df.groupby('phone_model')['price'].transform(lambda x: np.mean(x)) #mean 평균 구하기\n",
        "df_price_model_std = df.groupby('phone_model')['price'].transform(lambda x: np.std(x)) #std 표준편차 구하기"
      ],
      "execution_count": 10,
      "outputs": []
    },
    {
      "cell_type": "code",
      "metadata": {
        "colab": {
          "base_uri": "https://localhost:8080/",
          "height": 283
        },
        "id": "RH0kCP4FnwAW",
        "outputId": "ad2f4833-e36c-4eb8-abde-bf09f51f5504"
      },
      "source": [
        "# 이를 바탕으로 모든 데이터의 z-score를 계산합니다. 이는 해당 데이터의 가격이 기종별 평균에 비해 어느정도로 높거나 낮은지를 알 수 있게 하는 점수입니다.\n",
        "df_price_model_z_score =(df['price']-df_price_model_mean) / df_price_model_std\n",
        "df_price_model_z_score.hist(bins=\"auto\")"
      ],
      "execution_count": 11,
      "outputs": [
        {
          "output_type": "execute_result",
          "data": {
            "text/plain": [
              "<matplotlib.axes._subplots.AxesSubplot at 0x7f4db7793410>"
            ]
          },
          "metadata": {},
          "execution_count": 11
        },
        {
          "output_type": "display_data",
          "data": {
            "image/png": "[encoded data removed]",
            "text/plain": [
              "<Figure size 432x288 with 1 Axes>"
            ]
          },
          "metadata": {
            "needs_background": "light"
          }
        }
      ]
    },
    {
      "cell_type": "markdown",
      "metadata": {
        "id": "Aj3auwOTnwAX"
      },
      "source": [
        "-----"
      ]
    },
    {
      "cell_type": "markdown",
      "metadata": {
        "id": "ruce_zWbnwAX"
      },
      "source": [
        "##### 출고가 피처 탐색"
      ]
    },
    {
      "cell_type": "code",
      "metadata": {
        "colab": {
          "base_uri": "https://localhost:8080/",
          "height": 296
        },
        "id": "qzKTVCFGnwAX",
        "outputId": "d36da0bf-2975-427d-cdbd-8a28d39a5e6d"
      },
      "source": [
        "# factory_price 피처의 분포를 탐색합니다.\n",
        "df['factory_price'].hist(bins=\"auto\")"
      ],
      "execution_count": 12,
      "outputs": [
        {
          "output_type": "execute_result",
          "data": {
            "text/plain": [
              "<matplotlib.axes._subplots.AxesSubplot at 0x7f4db633a0d0>"
            ]
          },
          "metadata": {},
          "execution_count": 12
        },
        {
          "output_type": "display_data",
          "data": {
            "image/png": "[encoded data removed]",
            "text/plain": [
              "<Figure size 432x288 with 1 Axes>"
            ]
          },
          "metadata": {
            "needs_background": "light"
          }
        }
      ]
    },
    {
      "cell_type": "code",
      "metadata": {
        "colab": {
          "base_uri": "https://localhost:8080/",
          "height": 309
        },
        "id": "CnvqGKdOnwAX",
        "outputId": "f05dff21-7069-4ff1-e606-8caa3648ce7a"
      },
      "source": [
        "# factory_price와 price 피처를 scatter plot으로 출력하여, 상관관계를 살펴봅니다.\n",
        "df.plot.scatter(x='factory_price', y='price')"
      ],
      "execution_count": 13,
      "outputs": [
        {
          "output_type": "execute_result",
          "data": {
            "text/plain": [
              "<matplotlib.axes._subplots.AxesSubplot at 0x7f4db626b7d0>"
            ]
          },
          "metadata": {},
          "execution_count": 13
        },
        {
          "output_type": "display_data",
          "data": {
            "image/png": "[encoded data removed]",
            "text/plain": [
              "<Figure size 432x288 with 1 Axes>"
            ]
          },
          "metadata": {
            "needs_background": "light"
          }
        }
      ]
    },
    {
      "cell_type": "markdown",
      "metadata": {
        "id": "R7OwrpGenwAX"
      },
      "source": [
        "-----"
      ]
    },
    {
      "cell_type": "markdown",
      "metadata": {
        "id": "7b5aYixYnwAY"
      },
      "source": [
        "##### 핸드폰 모델 피처 탐색"
      ]
    },
    {
      "cell_type": "code",
      "metadata": {
        "colab": {
          "base_uri": "https://localhost:8080/",
          "height": 571
        },
        "id": "D8txYQSxnwAY",
        "outputId": "5ba9551b-91d0-48e7-8d29-9e89674ceaed"
      },
      "source": [
        "# 기종별 총 거래 데이터 개수를 집계합니다.\n",
        "model_counts = df['phone_model'].value_counts()\n",
        "print(model_counts.describe())\n",
        "\n",
        "# 기종별 총 거래 데이터 개수를 상자 그림으로 살펴봅니다.\n",
        "plt.boxplot(model_counts)"
      ],
      "execution_count": 14,
      "outputs": [
        {
          "output_type": "stream",
          "name": "stdout",
          "text": [
            "count      64.000000\n",
            "mean       77.359375\n",
            "std       143.432786\n",
            "min        10.000000\n",
            "25%        23.000000\n",
            "50%        35.000000\n",
            "75%        90.500000\n",
            "max      1002.000000\n",
            "Name: phone_model, dtype: float64\n"
          ]
        },
        {
          "output_type": "execute_result",
          "data": {
            "text/plain": [
              "{'boxes': [<matplotlib.lines.Line2D at 0x7f4db619b410>],\n",
              " 'caps': [<matplotlib.lines.Line2D at 0x7f4db61a1450>,\n",
              "  <matplotlib.lines.Line2D at 0x7f4db61a1990>],\n",
              " 'fliers': [<matplotlib.lines.Line2D at 0x7f4db61a8490>],\n",
              " 'means': [],\n",
              " 'medians': [<matplotlib.lines.Line2D at 0x7f4db61a1f10>],\n",
              " 'whiskers': [<matplotlib.lines.Line2D at 0x7f4db619b990>,\n",
              "  <matplotlib.lines.Line2D at 0x7f4db619bed0>]}"
            ]
          },
          "metadata": {},
          "execution_count": 14
        },
        {
          "output_type": "display_data",
          "data": {
            "image/png": "[encoded data removed]",
            "text/plain": [
              "<Figure size 432x288 with 1 Axes>"
            ]
          },
          "metadata": {
            "needs_background": "light"
          }
        }
      ]
    },
    {
      "cell_type": "markdown",
      "metadata": {
        "id": "eHfjBUoEnwAY"
      },
      "source": [
        "-----"
      ]
    },
    {
      "cell_type": "markdown",
      "metadata": {
        "id": "JSOV_jynnwAY"
      },
      "source": [
        "### `[미니 퀴즈 - 5.1]`\n",
        "- `'maker', 'price_index' 피처에 대한 특징을 탐색해 보도록 합시다.` \n",
        "    - value_counts를 이용하여 피처의 분포를 탐색해보도록 합시다.\n"
      ]
    },
    {
      "cell_type": "markdown",
      "metadata": {
        "id": "nn8JjBEDnwAY"
      },
      "source": [
        "##### 메이커 피처 탐색"
      ]
    },
    {
      "cell_type": "code",
      "metadata": {
        "colab": {
          "base_uri": "https://localhost:8080/",
          "height": 571
        },
        "id": "-M1khMLGnwAZ",
        "outputId": "0934c52a-1fba-4275-d254-0ba05f878709"
      },
      "source": [
        "maker_counts = df['maker'].value_counts()\n",
        "print(maker_counts)\n",
        "plt.boxplot(maker_counts)"
      ],
      "execution_count": 15,
      "outputs": [
        {
          "output_type": "stream",
          "name": "stdout",
          "text": [
            "apple      2450\n",
            "samsung    1642\n",
            "lg          677\n",
            "pantech      57\n",
            "sony         37\n",
            "huawei       35\n",
            "tg           28\n",
            "sky          25\n",
            "Name: maker, dtype: int64\n"
          ]
        },
        {
          "output_type": "execute_result",
          "data": {
            "text/plain": [
              "{'boxes': [<matplotlib.lines.Line2D at 0x7f4db6185e90>],\n",
              " 'caps': [<matplotlib.lines.Line2D at 0x7f4db618ce90>,\n",
              "  <matplotlib.lines.Line2D at 0x7f4db6194410>],\n",
              " 'fliers': [<matplotlib.lines.Line2D at 0x7f4db6194ed0>],\n",
              " 'means': [],\n",
              " 'medians': [<matplotlib.lines.Line2D at 0x7f4db6194990>],\n",
              " 'whiskers': [<matplotlib.lines.Line2D at 0x7f4db618c410>,\n",
              "  <matplotlib.lines.Line2D at 0x7f4db618c950>]}"
            ]
          },
          "metadata": {},
          "execution_count": 15
        },
        {
          "output_type": "display_data",
          "data": {
            "image/png": "[encoded data removed]",
            "text/plain": [
              "<Figure size 432x288 with 1 Axes>"
            ]
          },
          "metadata": {
            "needs_background": "light"
          }
        }
      ]
    },
    {
      "cell_type": "markdown",
      "metadata": {
        "id": "Lq6FdHcxnwAZ"
      },
      "source": [
        "##### 물가 피처 탐색"
      ]
    },
    {
      "cell_type": "code",
      "metadata": {
        "colab": {
          "base_uri": "https://localhost:8080/"
        },
        "id": "A9pDXHnhnwAZ",
        "outputId": "ae2cf5c8-0258-4ed4-80e8-9edb3949ace0"
      },
      "source": [
        "df['price_index'].value_counts()"
      ],
      "execution_count": 16,
      "outputs": [
        {
          "output_type": "execute_result",
          "data": {
            "text/plain": [
              "103.05    3061\n",
              "95.96     1311\n",
              "102.59     448\n",
              "94.90      131\n",
              "Name: price_index, dtype: int64"
            ]
          },
          "metadata": {},
          "execution_count": 16
        }
      ]
    },
    {
      "cell_type": "markdown",
      "metadata": {
        "id": "ueGdOXK1nwAZ"
      },
      "source": [
        "-----"
      ]
    },
    {
      "cell_type": "markdown",
      "metadata": {
        "id": "31fLKgCinwAZ"
      },
      "source": [
        "### [Random forest regressor를 이용한 가격 예측]"
      ]
    },
    {
      "cell_type": "code",
      "metadata": {
        "scrolled": true,
        "colab": {
          "base_uri": "https://localhost:8080/",
          "height": 442
        },
        "id": "X20XvkulnwAa",
        "outputId": "27f91c1a-6148-4367-9130-f7280a3a00d6"
      },
      "source": [
        "df.head()"
      ],
      "execution_count": 17,
      "outputs": [
        {
          "output_type": "execute_result",
          "data": {
            "text/html": [
              "<div>\n",
              "<style scoped>\n",
              "    .dataframe tbody tr th:only-of-type {\n",
              "        vertical-align: middle;\n",
              "    }\n",
              "\n",
              "    .dataframe tbody tr th {\n",
              "        vertical-align: top;\n",
              "    }\n",
              "\n",
              "    .dataframe thead th {\n",
              "        text-align: right;\n",
              "    }\n",
              "</style>\n",
              "<table border=\"1\" class=\"dataframe\">\n",
              "  <thead>\n",
              "    <tr style=\"text-align: right;\">\n",
              "      <th></th>\n",
              "      <th>create_date</th>\n",
              "      <th>price</th>\n",
              "      <th>text</th>\n",
              "      <th>phone_model</th>\n",
              "      <th>factory_price</th>\n",
              "      <th>maker</th>\n",
              "      <th>price_index</th>\n",
              "      <th>month</th>\n",
              "    </tr>\n",
              "  </thead>\n",
              "  <tbody>\n",
              "    <tr>\n",
              "      <th>0</th>\n",
              "      <td>2017-03-19  4 35 00 PM</td>\n",
              "      <td>550000.0</td>\n",
              "      <td>아이폰6플러스 블랙+애플라이트 64기가 팝니다  아이폰6플러스 블랙+애플라이트 64...</td>\n",
              "      <td>iphone 6 64gb</td>\n",
              "      <td>924000</td>\n",
              "      <td>apple</td>\n",
              "      <td>95.96</td>\n",
              "      <td>2017-03</td>\n",
              "    </tr>\n",
              "    <tr>\n",
              "      <th>1</th>\n",
              "      <td>2016-10-26  12 08 00 PM</td>\n",
              "      <td>380000.0</td>\n",
              "      <td>갤럭시s6엣지 32기가 팝니다 직거래  갤럭시s6엣지 32기가 품명 갤럭시s6엣지제...</td>\n",
              "      <td>galaxy s6 edge 32gb</td>\n",
              "      <td>979000</td>\n",
              "      <td>samsung</td>\n",
              "      <td>103.05</td>\n",
              "      <td>2016-10</td>\n",
              "    </tr>\n",
              "    <tr>\n",
              "      <th>2</th>\n",
              "      <td>2016-10-25  12 52 00 PM</td>\n",
              "      <td>300000.0</td>\n",
              "      <td>갤럭시s6 풀박스로 팝니다~~~ 새상품급  실기스조차 없어요  직접거래 구매한지 1...</td>\n",
              "      <td>galaxy s6 32gb</td>\n",
              "      <td>854000</td>\n",
              "      <td>samsung</td>\n",
              "      <td>103.05</td>\n",
              "      <td>2016-10</td>\n",
              "    </tr>\n",
              "    <tr>\n",
              "      <th>3</th>\n",
              "      <td>2017-03-23  11 14 00 PM</td>\n",
              "      <td>290000.0</td>\n",
              "      <td>sk  g5 티탄 폰 단품판매합니다  직접거래 sk g5 티탄 폰 단품판매합니다 올...</td>\n",
              "      <td>lg g5 32gb</td>\n",
              "      <td>836000</td>\n",
              "      <td>lg</td>\n",
              "      <td>95.96</td>\n",
              "      <td>2017-03</td>\n",
              "    </tr>\n",
              "    <tr>\n",
              "      <th>4</th>\n",
              "      <td>2016-04-11  7 35 00 PM</td>\n",
              "      <td>280000.0</td>\n",
              "      <td>sony 엑스페리아 c5 ultra e5506 16gb  미사용 새제품 팝니다 1...</td>\n",
              "      <td>lg u 32gb</td>\n",
              "      <td>396000</td>\n",
              "      <td>lg</td>\n",
              "      <td>102.59</td>\n",
              "      <td>2016-04</td>\n",
              "    </tr>\n",
              "  </tbody>\n",
              "</table>\n",
              "</div>"
            ],
            "text/plain": [
              "               create_date     price  ... price_index    month\n",
              "0   2017-03-19  4 35 00 PM  550000.0  ...       95.96  2017-03\n",
              "1  2016-10-26  12 08 00 PM  380000.0  ...      103.05  2016-10\n",
              "2  2016-10-25  12 52 00 PM  300000.0  ...      103.05  2016-10\n",
              "3  2017-03-23  11 14 00 PM  290000.0  ...       95.96  2017-03\n",
              "4   2016-04-11  7 35 00 PM  280000.0  ...      102.59  2016-04\n",
              "\n",
              "[5 rows x 8 columns]"
            ]
          },
          "metadata": {},
          "execution_count": 17
        }
      ]
    },
    {
      "cell_type": "markdown",
      "metadata": {
        "id": "4pJyhiusnwAa"
      },
      "source": [
        "-----"
      ]
    },
    {
      "cell_type": "markdown",
      "metadata": {
        "id": "Bx3jpsTWnwAa"
      },
      "source": [
        "##### Random forest 모델 학습\n",
        "\n",
        "---\n",
        "\n"
      ]
    },
    {
      "cell_type": "code",
      "metadata": {
        "colab": {
          "base_uri": "https://localhost:8080/"
        },
        "id": "-6moxNF7nwAa",
        "outputId": "dd66d98c-8911-4840-a6d5-5bde690f0842"
      },
      "source": [
        "from sklearn.model_selection import train_test_split\n",
        "from sklearn.feature_extraction import DictVectorizer\n",
        "from sklearn.ensemble import RandomForestRegressor\n",
        "from sklearn.metrics import r2_score\n",
        "from sklearn.metrics import mean_squared_error\n",
        "\n",
        "# 데이터를 학습/테스트용 데이터로 분리합니다.\n",
        "df = df[['price', 'phone_model', 'factory_price', 'maker', 'price_index', 'month']]\n",
        "\n",
        "# get_dummies를 사용하여 One Hot Encoding하세요.\n",
        "df = pd.get_dummies(df, columns=['phone_model','maker','month'])\n",
        "\n",
        "X = df.loc[:, df.columns != 'price']\n",
        "y = df['price']\n",
        "\n",
        "# train/test 데이터셋 분리 (train 80%, test 20%, random_state=0-> 똑같은 코드를 데이터셋 랜덤하게 바뀌면 파라미터 튜닝시 판단 불가 -> 고정시키기 위해)\n",
        "X_train, X_test, y_train, y_test =  train_test_split(X, y, test_size=0.2, random_state=0)\n",
        "\n",
        "# 랜덤 포레스트 모델을 학습합니다.\n",
        "forest =  RandomForestRegressor(n_estimators = 1000)\n",
        "\n",
        "#실제로 학습이 일어나는 과정\n",
        "forest.fit(X_train, y_train)\n",
        "y_train_pred = forest.predict(X_train)\n",
        "y_test_pred = forest.predict(X_test)\n",
        "\n",
        "# 학습한 모델을 평가합니다.\n",
        "print('MSE train: %.3f, test: %.3f' % (\n",
        "        mean_squared_error(y_train, y_train_pred),\n",
        "        mean_squared_error(y_test, y_test_pred)))\n",
        "print('R^2 train: %.3f, test: %.3f' % (\n",
        "        r2_score(y_train, y_train_pred),\n",
        "        r2_score(y_test, y_test_pred)))"
      ],
      "execution_count": 18,
      "outputs": [
        {
          "output_type": "stream",
          "name": "stdout",
          "text": [
            "MSE train: 10439092665.212, test: 15503609401.687\n",
            "R^2 train: 0.780, test: 0.661\n"
          ]
        }
      ]
    },
    {
      "cell_type": "markdown",
      "metadata": {
        "id": "a-0rPB67nwAa"
      },
      "source": [
        "##### 피처 중요도 분석"
      ]
    },
    {
      "cell_type": "code",
      "metadata": {
        "colab": {
          "base_uri": "https://localhost:8080/",
          "height": 445
        },
        "id": "MgGFe2-bnwAb",
        "outputId": "9c62d549-5a33-47d7-9ecd-f7daaa00be96"
      },
      "source": [
        "# 학습한 모델의 피처 중요도를 그래프로 살펴봅니다.\n",
        "importances = forest.feature_importances_\n",
        "indices = np.argsort(importances)[::-1]\n",
        "plt.bar(range(X.shape[1]), importances[indices])\n",
        "\n",
        "# 학습한 모델의 피처 중요도를 출력합니다.\n",
        "feat_labels = X.columns.tolist()\n",
        "feature = list(zip(feat_labels, forest.feature_importances_))\n",
        "sorted(feature, key=lambda tup: tup[1], reverse=True)[:10]"
      ],
      "execution_count": 19,
      "outputs": [
        {
          "output_type": "execute_result",
          "data": {
            "text/plain": [
              "[('factory_price', 0.40389971248561257),\n",
              " ('maker_apple', 0.29152291090207944),\n",
              " ('phone_model_iphone se 64gb', 0.024620709838437078),\n",
              " ('phone_model_galaxy s3 3g 8gb', 0.021321460408735962),\n",
              " ('price_index', 0.020357978320182036),\n",
              " ('phone_model_galaxy s4 32gb', 0.018628564047446543),\n",
              " ('maker_samsung', 0.016091591098702816),\n",
              " ('month_2017-03', 0.015713404428603105),\n",
              " ('phone_model_iphone 6 128gb', 0.015268623885783887),\n",
              " ('phone_model_galaxy s6 32gb', 0.012902565149412248)]"
            ]
          },
          "metadata": {},
          "execution_count": 19
        },
        {
          "output_type": "display_data",
          "data": {
            "image/png": "[encoded data removed]",
            "text/plain": [
              "<Figure size 432x288 with 1 Axes>"
            ]
          },
          "metadata": {
            "needs_background": "light"
          }
        }
      ]
    },
    {
      "cell_type": "code",
      "metadata": {
        "code_folding": [],
        "colab": {
          "base_uri": "https://localhost:8080/"
        },
        "id": "pKw3IqU-nwAb",
        "outputId": "eb85ab33-39e7-4ba1-de33-0a576555e98d"
      },
      "source": [
        "# month 피처 중, 영향력이 높은순으로 정렬하여 출력합니다.\n",
        "for sorted_feature in sorted(feature, key=lambda tup: tup[1], reverse=True):\n",
        "    if \"month\" in sorted_feature[0]: \n",
        "        print(sorted_feature)"
      ],
      "execution_count": 20,
      "outputs": [
        {
          "output_type": "stream",
          "name": "stdout",
          "text": [
            "('month_2017-03', 0.015713404428603105)\n",
            "('month_2016-05', 0.009943629804760252)\n",
            "('month_2016-09', 0.00821378520310444)\n",
            "('month_2016-10', 0.006442582921276616)\n",
            "('month_2016-04', 0.0063821630254448)\n",
            "('month_2016-06', 0.0037635566038233714)\n",
            "('month_2016-08', 0.0033325703809966765)\n",
            "('month_2016-07', 0.0020220383617314823)\n",
            "('month_2016-03', 0.0019426275583388514)\n",
            "('month_2016-02', 0.0008540621170100398)\n"
          ]
        }
      ]
    },
    {
      "cell_type": "markdown",
      "metadata": {
        "id": "Lo6O-w_3nwAb"
      },
      "source": [
        "-----"
      ]
    },
    {
      "cell_type": "markdown",
      "metadata": {
        "id": "3R071f5onwAb"
      },
      "source": [
        "##### 예측 결과 scatter plot"
      ]
    },
    {
      "cell_type": "code",
      "metadata": {
        "colab": {
          "base_uri": "https://localhost:8080/",
          "height": 307
        },
        "id": "htZAJgqPnwAb",
        "outputId": "1cb24a7f-ac8d-4957-99fc-8786e32328af"
      },
      "source": [
        "plt.scatter(y_test.values, y_test_pred) #scatter : x,y축 리스트나 넘파이의 배열같은 이터레이블한 자료형 엽력받음"
      ],
      "execution_count": 21,
      "outputs": [
        {
          "output_type": "execute_result",
          "data": {
            "text/plain": [
              "<matplotlib.collections.PathCollection at 0x7f4db0f98f90>"
            ]
          },
          "metadata": {},
          "execution_count": 21
        },
        {
          "output_type": "display_data",
          "data": {
            "image/png": "[encoded data removed]",
            "text/plain": [
              "<Figure size 432x288 with 1 Axes>"
            ]
          },
          "metadata": {
            "needs_background": "light"
          }
        }
      ]
    },
    {
      "cell_type": "markdown",
      "metadata": {
        "id": "TqQYP3q5nwAb"
      },
      "source": [
        "-----"
      ]
    },
    {
      "cell_type": "markdown",
      "metadata": {
        "id": "E8XejgOcnwAc"
      },
      "source": [
        "# <Step2. 피처 엔지니어링> : 예측 모델 개선"
      ]
    },
    {
      "cell_type": "markdown",
      "metadata": {
        "id": "wj8zk0GlnwAc"
      },
      "source": [
        "### [기존 feature의 가공]"
      ]
    },
    {
      "cell_type": "code",
      "metadata": {
        "id": "rlEz67pdnwAc"
      },
      "source": [
        "# 데이터를 다시 불러옵니다.\n",
        "df = pd.read_csv(\"data/used_mobile_phone.csv\")"
      ],
      "execution_count": 22,
      "outputs": []
    },
    {
      "cell_type": "markdown",
      "metadata": {
        "id": "X8q-VjYxnwAc"
      },
      "source": [
        "##### create_date로 시간점수 생성하기"
      ]
    },
    {
      "cell_type": "code",
      "metadata": {
        "colab": {
          "base_uri": "https://localhost:8080/"
        },
        "id": "vItGpLydnwAc",
        "outputId": "174a7b50-3442-453e-96ce-9c96a2b28e53"
      },
      "source": [
        "from datetime import datetime\n",
        "import time\n",
        "\n",
        "# create_date 피처를 수치적으로 계산하기 위해, unixtime으로 변환하는 함수를 정의합니다.\n",
        "def date_to_unixtime(date_str):\n",
        "    timestamp = time.mktime(datetime.strptime(date_str, '%Y-%m-%d').timetuple())\n",
        "    return timestamp\n",
        "\n",
        "# create_date 피처를 ‘현재와 얼마나 가까운 데이터인 지’ 판단하기 위한 점수를 생성합니다. 먼저 unixtime으로 데이터를 변환합니다.\n",
        "df['create_unixtime'] = df['create_date'].apply(lambda x: date_to_unixtime(x[:10]))\n",
        "print(df['create_unixtime'][:10])"
      ],
      "execution_count": 23,
      "outputs": [
        {
          "output_type": "stream",
          "name": "stdout",
          "text": [
            "0    1.489882e+09\n",
            "1    1.477440e+09\n",
            "2    1.477354e+09\n",
            "3    1.490227e+09\n",
            "4    1.460333e+09\n",
            "5    1.490141e+09\n",
            "6    1.490227e+09\n",
            "7    1.475798e+09\n",
            "8    1.490400e+09\n",
            "9    1.458691e+09\n",
            "Name: create_unixtime, dtype: float64\n"
          ]
        }
      ]
    },
    {
      "cell_type": "code",
      "metadata": {
        "colab": {
          "base_uri": "https://localhost:8080/",
          "height": 204
        },
        "id": "OTahicNBnwAd",
        "outputId": "be29d3bf-cfe1-4f50-c6ab-424bfc877cdc"
      },
      "source": [
        "# 변환된 unixtime에 min-max 스케일링을 적용합니다.\n",
        "df['create_time_score'] = (df['create_unixtime']-df['create_unixtime'].min()) /  (df['create_unixtime'].max()- df['create_unixtime'].min())\n",
        "df[['create_date', 'create_unixtime', 'create_time_score']].head()"
      ],
      "execution_count": 24,
      "outputs": [
        {
          "output_type": "execute_result",
          "data": {
            "text/html": [
              "<div>\n",
              "<style scoped>\n",
              "    .dataframe tbody tr th:only-of-type {\n",
              "        vertical-align: middle;\n",
              "    }\n",
              "\n",
              "    .dataframe tbody tr th {\n",
              "        vertical-align: top;\n",
              "    }\n",
              "\n",
              "    .dataframe thead th {\n",
              "        text-align: right;\n",
              "    }\n",
              "</style>\n",
              "<table border=\"1\" class=\"dataframe\">\n",
              "  <thead>\n",
              "    <tr style=\"text-align: right;\">\n",
              "      <th></th>\n",
              "      <th>create_date</th>\n",
              "      <th>create_unixtime</th>\n",
              "      <th>create_time_score</th>\n",
              "    </tr>\n",
              "  </thead>\n",
              "  <tbody>\n",
              "    <tr>\n",
              "      <th>0</th>\n",
              "      <td>2017-03-19  4 35 00 PM</td>\n",
              "      <td>1.489882e+09</td>\n",
              "      <td>0.985612</td>\n",
              "    </tr>\n",
              "    <tr>\n",
              "      <th>1</th>\n",
              "      <td>2016-10-26  12 08 00 PM</td>\n",
              "      <td>1.477440e+09</td>\n",
              "      <td>0.640288</td>\n",
              "    </tr>\n",
              "    <tr>\n",
              "      <th>2</th>\n",
              "      <td>2016-10-25  12 52 00 PM</td>\n",
              "      <td>1.477354e+09</td>\n",
              "      <td>0.637890</td>\n",
              "    </tr>\n",
              "    <tr>\n",
              "      <th>3</th>\n",
              "      <td>2017-03-23  11 14 00 PM</td>\n",
              "      <td>1.490227e+09</td>\n",
              "      <td>0.995204</td>\n",
              "    </tr>\n",
              "    <tr>\n",
              "      <th>4</th>\n",
              "      <td>2016-04-11  7 35 00 PM</td>\n",
              "      <td>1.460333e+09</td>\n",
              "      <td>0.165468</td>\n",
              "    </tr>\n",
              "  </tbody>\n",
              "</table>\n",
              "</div>"
            ],
            "text/plain": [
              "               create_date  create_unixtime  create_time_score\n",
              "0   2017-03-19  4 35 00 PM     1.489882e+09           0.985612\n",
              "1  2016-10-26  12 08 00 PM     1.477440e+09           0.640288\n",
              "2  2016-10-25  12 52 00 PM     1.477354e+09           0.637890\n",
              "3  2017-03-23  11 14 00 PM     1.490227e+09           0.995204\n",
              "4   2016-04-11  7 35 00 PM     1.460333e+09           0.165468"
            ]
          },
          "metadata": {},
          "execution_count": 24
        }
      ]
    },
    {
      "cell_type": "markdown",
      "metadata": {
        "id": "LuvUKxjOnwAd"
      },
      "source": [
        "-----"
      ]
    },
    {
      "cell_type": "markdown",
      "metadata": {
        "id": "eHBtelYUnwAd"
      },
      "source": [
        "##### phone_model 피처 분리"
      ]
    },
    {
      "cell_type": "code",
      "metadata": {
        "colab": {
          "base_uri": "https://localhost:8080/",
          "height": 204
        },
        "id": "KLYIzP9unwAd",
        "outputId": "893c04ee-9f80-4ef2-a5f0-a17a33766bdd"
      },
      "source": [
        "# phone_model 피처에서 저장 용량(phone_model_storage) 피처를 추출합니다. -1 : 제일 뒤에거 가져와라\n",
        "df['phone_model_storage'] = df['phone_model'].apply(lambda x: x.split(\" \")[-1])\n",
        "\n",
        "# phone_model 피처에서 기종 세부명(phone_model_detail) 피처를 추출합니다.\n",
        "df['phone_model_detail'] = df['phone_model'].apply(lambda x:  ' '.join(x.split(\" \")[:-1]))\n",
        "df[['phone_model_storage', 'phone_model_detail']].head()"
      ],
      "execution_count": 25,
      "outputs": [
        {
          "output_type": "execute_result",
          "data": {
            "text/html": [
              "<div>\n",
              "<style scoped>\n",
              "    .dataframe tbody tr th:only-of-type {\n",
              "        vertical-align: middle;\n",
              "    }\n",
              "\n",
              "    .dataframe tbody tr th {\n",
              "        vertical-align: top;\n",
              "    }\n",
              "\n",
              "    .dataframe thead th {\n",
              "        text-align: right;\n",
              "    }\n",
              "</style>\n",
              "<table border=\"1\" class=\"dataframe\">\n",
              "  <thead>\n",
              "    <tr style=\"text-align: right;\">\n",
              "      <th></th>\n",
              "      <th>phone_model_storage</th>\n",
              "      <th>phone_model_detail</th>\n",
              "    </tr>\n",
              "  </thead>\n",
              "  <tbody>\n",
              "    <tr>\n",
              "      <th>0</th>\n",
              "      <td>64gb</td>\n",
              "      <td>iphone 6</td>\n",
              "    </tr>\n",
              "    <tr>\n",
              "      <th>1</th>\n",
              "      <td>32gb</td>\n",
              "      <td>galaxy s6 edge</td>\n",
              "    </tr>\n",
              "    <tr>\n",
              "      <th>2</th>\n",
              "      <td>32gb</td>\n",
              "      <td>galaxy s6</td>\n",
              "    </tr>\n",
              "    <tr>\n",
              "      <th>3</th>\n",
              "      <td>32gb</td>\n",
              "      <td>lg g5</td>\n",
              "    </tr>\n",
              "    <tr>\n",
              "      <th>4</th>\n",
              "      <td>32gb</td>\n",
              "      <td>lg u</td>\n",
              "    </tr>\n",
              "  </tbody>\n",
              "</table>\n",
              "</div>"
            ],
            "text/plain": [
              "  phone_model_storage phone_model_detail\n",
              "0                64gb           iphone 6\n",
              "1                32gb     galaxy s6 edge\n",
              "2                32gb          galaxy s6\n",
              "3                32gb              lg g5\n",
              "4                32gb               lg u"
            ]
          },
          "metadata": {},
          "execution_count": 25
        }
      ]
    },
    {
      "cell_type": "code",
      "metadata": {
        "colab": {
          "base_uri": "https://localhost:8080/",
          "height": 535
        },
        "id": "rCcLzHa-nwAd",
        "outputId": "fc91fcdb-eebb-416b-e139-84d336fa618c"
      },
      "source": [
        "# phone_model 피처의 기종별 거래 데이터 개수를 집계합니다.\n",
        "model_counts = df['phone_model'].value_counts()\n",
        "\n",
        "# phone_model_detail 피처의 기종별 거래 데이터 개수를 집계합니다.\n",
        "model_detail_counts = df['phone_model_detail'].value_counts()\n",
        "data = [model_counts, model_detail_counts]\n",
        "\n",
        "# 두 피처간의 기종별 거래 데이터 개수를 비교합니다.\n",
        "mpl_fig = plt.figure()\n",
        "ax = mpl_fig.add_subplot(111)\n",
        "ax.boxplot(data)"
      ],
      "execution_count": 26,
      "outputs": [
        {
          "output_type": "execute_result",
          "data": {
            "text/plain": [
              "{'boxes': [<matplotlib.lines.Line2D at 0x7f4db0f19dd0>,\n",
              "  <matplotlib.lines.Line2D at 0x7f4db0e9b3d0>],\n",
              " 'caps': [<matplotlib.lines.Line2D at 0x7f4db0e90dd0>,\n",
              "  <matplotlib.lines.Line2D at 0x7f4db0e95350>,\n",
              "  <matplotlib.lines.Line2D at 0x7f4db0ea3390>,\n",
              "  <matplotlib.lines.Line2D at 0x7f4db0ea38d0>],\n",
              " 'fliers': [<matplotlib.lines.Line2D at 0x7f4db0e95e10>,\n",
              "  <matplotlib.lines.Line2D at 0x7f4db0ea9390>],\n",
              " 'means': [],\n",
              " 'medians': [<matplotlib.lines.Line2D at 0x7f4db0e958d0>,\n",
              "  <matplotlib.lines.Line2D at 0x7f4db0ea3e10>],\n",
              " 'whiskers': [<matplotlib.lines.Line2D at 0x7f4db0e90350>,\n",
              "  <matplotlib.lines.Line2D at 0x7f4db0e90890>,\n",
              "  <matplotlib.lines.Line2D at 0x7f4db0e9b910>,\n",
              "  <matplotlib.lines.Line2D at 0x7f4db0e9be10>]}"
            ]
          },
          "metadata": {},
          "execution_count": 26
        },
        {
          "output_type": "display_data",
          "data": {
            "image/png": "[encoded data removed]",
            "text/plain": [
              "<Figure size 432x288 with 1 Axes>"
            ]
          },
          "metadata": {
            "needs_background": "light"
          }
        }
      ]
    },
    {
      "cell_type": "markdown",
      "metadata": {
        "id": "f8LR9KQInwAe"
      },
      "source": [
        "-----"
      ]
    },
    {
      "cell_type": "code",
      "metadata": {
        "colab": {
          "base_uri": "https://localhost:8080/"
        },
        "id": "2onRt0xUiBlj",
        "outputId": "4c155f23-6123-4fdf-b756-ddab64ffebe8"
      },
      "source": [
        "model_detail_counts"
      ],
      "execution_count": 27,
      "outputs": [
        {
          "output_type": "execute_result",
          "data": {
            "text/plain": [
              "iphone 6               1707\n",
              "galaxy note3            255\n",
              "galaxy note5            241\n",
              "iphone se               240\n",
              "galaxy s6               183\n",
              "iphone 5s               182\n",
              "iphone 7                138\n",
              "galaxy s7               128\n",
              "wine smart jazz         128\n",
              "galaxy s7 edge          123\n",
              "lg g5                   121\n",
              "galaxy s4               104\n",
              "lg u                     96\n",
              "g4                       95\n",
              "galaxy note 2            95\n",
              "iphone 7 plus            79\n",
              "galaxy s3 3g             73\n",
              "g3 cat.6                 72\n",
              "galaxy s6 edge           67\n",
              "galaxy note4             61\n",
              "optimus g                50\n",
              "lg g2                    45\n",
              "iphone 6s Plus           42\n",
              "galaxy note7             41\n",
              "galaxy a8 2016           40\n",
              "galaxy alpha             38\n",
              "xperia z3                37\n",
              "iphone 5                 36\n",
              "galaxy grand max         35\n",
              "nexus 5x                 35\n",
              "g pro2                   35\n",
              "y6                       35\n",
              "vega iron2               34\n",
              "galaxy s6 edge plus      33\n",
              "galaxy note3 neo         31\n",
              "galaxy folder            30\n",
              "luna                     28\n",
              "galaxy s5                27\n",
              "iphone 4s                26\n",
              "im-100                   25\n",
              "vega secret up           23\n",
              "galaxy a7 2016           22\n",
              "galaxy s4 lte-a          15\n",
              "Name: phone_model_detail, dtype: int64"
            ]
          },
          "metadata": {},
          "execution_count": 27
        }
      ]
    },
    {
      "cell_type": "markdown",
      "metadata": {
        "id": "G8ZasPeBnwAe"
      },
      "source": [
        "##### phone_model 관련 딕셔너리 생성"
      ]
    },
    {
      "cell_type": "code",
      "metadata": {
        "scrolled": true,
        "colab": {
          "base_uri": "https://localhost:8080/"
        },
        "id": "BOW3B8VGnwAe",
        "outputId": "b04ddc21-aa01-42f1-fee3-df3fe0709042"
      },
      "source": [
        "# 기종명 + 용량으로 출고가를 찾기 위한 딕셔너리를 생성합니다.\n",
        "model_to_factory_price_dict = {}\n",
        "for index, row in df.iterrows():\n",
        "    model_concat = (row['phone_model_detail'], row['phone_model_storage'])\n",
        "    if model_concat in model_to_factory_price_dict:\n",
        "        pass\n",
        "    else:\n",
        "        model_to_factory_price_dict[model_concat] =row['factory_price']\n",
        "\n",
        "model_to_factory_price_dict"
      ],
      "execution_count": 28,
      "outputs": [
        {
          "output_type": "execute_result",
          "data": {
            "text/plain": [
              "{('g pro2', '32gb'): 999000,\n",
              " ('g3 cat.6', '32gb'): 649000,\n",
              " ('g4', '32gb'): 825000,\n",
              " ('galaxy a7 2016', '16gb'): 599500,\n",
              " ('galaxy a8 2016', '32gb'): 649000,\n",
              " ('galaxy alpha', '32gb'): 748000,\n",
              " ('galaxy folder', '8gb'): 297000,\n",
              " ('galaxy grand max', '16gb'): 310000,\n",
              " ('galaxy note 2', '32gb'): 1089000,\n",
              " ('galaxy note3', '16gb'): 1067000,\n",
              " ('galaxy note3', '32gb'): 1067000,\n",
              " ('galaxy note3 neo', '16gb'): 790000,\n",
              " ('galaxy note4', '32gb'): 396000,\n",
              " ('galaxy note5', '128gb'): 999000,\n",
              " ('galaxy note5', '32gb'): 899800,\n",
              " ('galaxy note5', '64gb'): 965800,\n",
              " ('galaxy note7', '64gb'): 988900,\n",
              " ('galaxy s3 3g', '8gb'): 904200,\n",
              " ('galaxy s4', '32gb'): 954800,\n",
              " ('galaxy s4 lte-a', '32gb'): 605000,\n",
              " ('galaxy s5', '32gb'): 825000,\n",
              " ('galaxy s6', '32gb'): 854000,\n",
              " ('galaxy s6', '64gb'): 924000,\n",
              " ('galaxy s6 edge', '32gb'): 979000,\n",
              " ('galaxy s6 edge', '64gb'): 1056000,\n",
              " ('galaxy s6 edge plus', '32gb'): 939400,\n",
              " ('galaxy s7', '32gb'): 836000,\n",
              " ('galaxy s7', '64gb'): 880000,\n",
              " ('galaxy s7 edge', '32gb'): 924000,\n",
              " ('galaxy s7 edge', '64gb'): 968000,\n",
              " ('im-100', '32gb'): 449900,\n",
              " ('iphone 4s', '16gb'): 814000,\n",
              " ('iphone 4s', '32gb'): 946000,\n",
              " ('iphone 5', '16gb'): 484000,\n",
              " ('iphone 5s', '16gb'): 814000,\n",
              " ('iphone 5s', '32gb'): 946000,\n",
              " ('iphone 5s', '64gb'): 1078000,\n",
              " ('iphone 6', '128gb'): 1056000,\n",
              " ('iphone 6', '16gb'): 789800,\n",
              " ('iphone 6', '32gb'): 789800,\n",
              " ('iphone 6', '64gb'): 924000,\n",
              " ('iphone 6s Plus', '16gb'): 789800,\n",
              " ('iphone 6s Plus', '64gb'): 924000,\n",
              " ('iphone 7', '128gb'): 999000,\n",
              " ('iphone 7', '256gb'): 1130800,\n",
              " ('iphone 7', '32gb'): 869000,\n",
              " ('iphone 7 plus', '128gb'): 1152800,\n",
              " ('iphone 7 plus', '256gb'): 1283700,\n",
              " ('iphone 7 plus', '32gb'): 1021900,\n",
              " ('iphone se', '16gb'): 504900,\n",
              " ('iphone se', '64gb'): 634700,\n",
              " ('lg g2', '32gb'): 616000,\n",
              " ('lg g5', '32gb'): 836000,\n",
              " ('lg u', '32gb'): 396000,\n",
              " ('luna', '16gb'): 449900,\n",
              " ('nexus 5x', '16gb'): 509000,\n",
              " ('nexus 5x', '32gb'): 569000,\n",
              " ('optimus g', '32gb'): 968000,\n",
              " ('vega iron2', '32gb'): 783200,\n",
              " ('vega secret up', '16gb'): 954800,\n",
              " ('wine smart jazz', '4gb'): 242000,\n",
              " ('xperia z3', '16gb'): 799000,\n",
              " ('xperia z3', '32gb'): 799000,\n",
              " ('y6', '8gb'): 154000}"
            ]
          },
          "metadata": {},
          "execution_count": 28
        }
      ]
    },
    {
      "cell_type": "markdown",
      "metadata": {
        "id": "uxci2gL4nwAe"
      },
      "source": [
        "-----"
      ]
    },
    {
      "cell_type": "markdown",
      "metadata": {
        "id": "T0aUUtt_nwAe"
      },
      "source": [
        "### [감성분석으로 물품의 상태 분류하기]"
      ]
    },
    {
      "cell_type": "markdown",
      "metadata": {
        "id": "ihCogyC9nwAe"
      },
      "source": [
        "##### 감성분류의 정답 데이터셋 생성"
      ]
    },
    {
      "cell_type": "code",
      "metadata": {
        "colab": {
          "base_uri": "https://localhost:8080/",
          "height": 301
        },
        "id": "03vcXVHLnwAe",
        "outputId": "504b6371-9404-4750-ebd5-cef0cbf403d5"
      },
      "source": [
        "# 거래 가격(price)의 z-score를 계산합니다. 이는 해당 데이터의 가격이 기종의 평균에 비해 어느정도로 높거나 낮은지를 알 수 있게 하는 점수입니다., 기종별로 평균값 계산\n",
        "df['price_by_group'] = df.groupby('phone_model_detail')['price'].transform(lambda x: (x - x.mean())/x.std())\n",
        "\n",
        "# 거래 가격의 z-score(price_by_group)의 분포를 그래프로 출력합니다\n",
        "ax = df['price_by_group'].hist(bins=\"auto\")\n",
        "\n",
        "# z-score(price_by_group) 기준으로 하위 5%, 상위 5%에 해당하는 점수를 lower_bound, upper_bound 라고 지정합니다.\n",
        "lower_bound = df['price_by_group'].quantile(0.05)  #하위5%\n",
        "upper_bound = df['price_by_group'].quantile(0.95)\n",
        "\n",
        "# lower_bound, upper_bound 그래프에 추가합니다.\n",
        "ax.axvline(x=lower_bound, color='r', linestyle='dashed', linewidth=2)\n",
        "ax.axvline(x=upper_bound, color='r', linestyle='dashed', linewidth=2)\n",
        "\n",
        "# lower_bound를, upper_bound 출력합니다.\n",
        "print(lower_bound)\n",
        "print(upper_bound)"
      ],
      "execution_count": 29,
      "outputs": [
        {
          "output_type": "stream",
          "name": "stdout",
          "text": [
            "-1.3966616903783426\n",
            "1.666982156397844\n"
          ]
        },
        {
          "output_type": "display_data",
          "data": {
            "image/png": "[encoded data removed]",
            "text/plain": [
              "<Figure size 432x288 with 1 Axes>"
            ]
          },
          "metadata": {
            "needs_background": "light"
          }
        }
      ]
    },
    {
      "cell_type": "code",
      "metadata": {
        "colab": {
          "base_uri": "https://localhost:8080/",
          "height": 272
        },
        "id": "YPvB_RPynwAf",
        "outputId": "b0de4ae7-65e8-4bb2-c5d9-5620395f4684"
      },
      "source": [
        "# lower_bound보다 낮으면 0, upper_bound보다 높으면 2, 그 중간이면 1로 가격의 상태를 분류하는 함수를 정의합니다.\n",
        "def get_price_level(price, lower, upper):\n",
        "    if price <= lower :\n",
        "      return \"0\"\n",
        "    elif price >= upper:\n",
        "      return \"2\"\n",
        "    else:\n",
        "      return \"1\"\n",
        "\n",
        "# lower_bound보다 낮으면 0, upper_bound보다 높으면 2, 그 중간이면 1로 가격의 상태를 분류합니다.\n",
        "df['price_lower'] = df.groupby('phone_model_detail')['price'].transform(lambda x: x.quantile(0.05))\n",
        "df['price_upper'] = df.groupby('phone_model_detail')['price'].transform(lambda x: x.quantile(0.95))\n",
        "df['price_level'] = df.apply(lambda row: get_price_level(row['price'], row['price_lower'], row['price_upper']), axis=1)\n",
        "\n",
        "df[['price', 'price_lower', 'price_upper', 'price_level', 'text']].head()\n",
        "\n",
        "#price level이 text가 관계가 있을것이다"
      ],
      "execution_count": 30,
      "outputs": [
        {
          "output_type": "execute_result",
          "data": {
            "text/html": [
              "<div>\n",
              "<style scoped>\n",
              "    .dataframe tbody tr th:only-of-type {\n",
              "        vertical-align: middle;\n",
              "    }\n",
              "\n",
              "    .dataframe tbody tr th {\n",
              "        vertical-align: top;\n",
              "    }\n",
              "\n",
              "    .dataframe thead th {\n",
              "        text-align: right;\n",
              "    }\n",
              "</style>\n",
              "<table border=\"1\" class=\"dataframe\">\n",
              "  <thead>\n",
              "    <tr style=\"text-align: right;\">\n",
              "      <th></th>\n",
              "      <th>price</th>\n",
              "      <th>price_lower</th>\n",
              "      <th>price_upper</th>\n",
              "      <th>price_level</th>\n",
              "      <th>text</th>\n",
              "    </tr>\n",
              "  </thead>\n",
              "  <tbody>\n",
              "    <tr>\n",
              "      <th>0</th>\n",
              "      <td>550000.0</td>\n",
              "      <td>180000.0</td>\n",
              "      <td>680000.0</td>\n",
              "      <td>1</td>\n",
              "      <td>아이폰6플러스 블랙+애플라이트 64기가 팝니다  아이폰6플러스 블랙+애플라이트 64...</td>\n",
              "    </tr>\n",
              "    <tr>\n",
              "      <th>1</th>\n",
              "      <td>380000.0</td>\n",
              "      <td>180000.0</td>\n",
              "      <td>414000.0</td>\n",
              "      <td>1</td>\n",
              "      <td>갤럭시s6엣지 32기가 팝니다 직거래  갤럭시s6엣지 32기가 품명 갤럭시s6엣지제...</td>\n",
              "    </tr>\n",
              "    <tr>\n",
              "      <th>2</th>\n",
              "      <td>300000.0</td>\n",
              "      <td>150000.0</td>\n",
              "      <td>349000.0</td>\n",
              "      <td>1</td>\n",
              "      <td>갤럭시s6 풀박스로 팝니다~~~ 새상품급  실기스조차 없어요  직접거래 구매한지 1...</td>\n",
              "    </tr>\n",
              "    <tr>\n",
              "      <th>3</th>\n",
              "      <td>290000.0</td>\n",
              "      <td>100000.0</td>\n",
              "      <td>500000.0</td>\n",
              "      <td>1</td>\n",
              "      <td>sk  g5 티탄 폰 단품판매합니다  직접거래 sk g5 티탄 폰 단품판매합니다 올...</td>\n",
              "    </tr>\n",
              "    <tr>\n",
              "      <th>4</th>\n",
              "      <td>280000.0</td>\n",
              "      <td>18000.0</td>\n",
              "      <td>400000.0</td>\n",
              "      <td>1</td>\n",
              "      <td>sony 엑스페리아 c5 ultra e5506 16gb  미사용 새제품 팝니다 1...</td>\n",
              "    </tr>\n",
              "  </tbody>\n",
              "</table>\n",
              "</div>"
            ],
            "text/plain": [
              "      price  ...                                               text\n",
              "0  550000.0  ...  아이폰6플러스 블랙+애플라이트 64기가 팝니다  아이폰6플러스 블랙+애플라이트 64...\n",
              "1  380000.0  ...  갤럭시s6엣지 32기가 팝니다 직거래  갤럭시s6엣지 32기가 품명 갤럭시s6엣지제...\n",
              "2  300000.0  ...  갤럭시s6 풀박스로 팝니다~~~ 새상품급  실기스조차 없어요  직접거래 구매한지 1...\n",
              "3  290000.0  ...  sk  g5 티탄 폰 단품판매합니다  직접거래 sk g5 티탄 폰 단품판매합니다 올...\n",
              "4  280000.0  ...   sony 엑스페리아 c5 ultra e5506 16gb  미사용 새제품 팝니다 1...\n",
              "\n",
              "[5 rows x 5 columns]"
            ]
          },
          "metadata": {},
          "execution_count": 30
        }
      ]
    },
    {
      "cell_type": "markdown",
      "metadata": {
        "id": "hT8U-spKnwAf"
      },
      "source": [
        "-----"
      ]
    },
    {
      "cell_type": "markdown",
      "metadata": {
        "id": "ka96SLOPnwAf"
      },
      "source": [
        "##### 텍스트 전처리"
      ]
    },
    {
      "cell_type": "code",
      "metadata": {
        "colab": {
          "base_uri": "https://localhost:8080/"
        },
        "id": "S8mabVHQnwAf",
        "outputId": "44e70c2d-6fd2-4251-c3a4-87b5223196b0"
      },
      "source": [
        "import pickle\n",
        "import re\n",
        "\n",
        "# 중고나라 불용어 사전을 불러옵니다.\n",
        "with open('data/used_mobile_phone_stopwords.pkl', 'rb') as f:\n",
        "    stopwords = pickle.load(f)\n",
        "\n",
        "# 불용어 사전(내가 무시할 용어)에 등록된 단어 10개를 출력합니다.\n",
        "print(stopwords[:20])\n",
        "\n",
        "\n",
        "#price 예측 모델"
      ],
      "execution_count": 31,
      "outputs": [
        {
          "output_type": "stream",
          "name": "stdout",
          "text": [
            "['거래', '입니', '판매', '아이폰', '갤럭시', '골드', '팝', '만원', '폰', '시', '주세', '노트', '문자', '화이트', '연락', '블랙', '구매', '및', '기재', '년']\n"
          ]
        }
      ]
    },
    {
      "cell_type": "markdown",
      "metadata": {
        "id": "WvsH2pv8nwAf"
      },
      "source": [
        "-----"
      ]
    },
    {
      "cell_type": "markdown",
      "metadata": {
        "id": "C2RPmFvInwAf"
      },
      "source": [
        "##### 형태소 단위로 추출"
      ]
    },
    {
      "cell_type": "code",
      "metadata": {
        "colab": {
          "base_uri": "https://localhost:8080/"
        },
        "id": "Lp0NbGPIwwyf",
        "outputId": "f2d6ddbc-c46f-49c8-9270-877abf66a413"
      },
      "source": [
        "!pip install konlpy"
      ],
      "execution_count": 32,
      "outputs": [
        {
          "output_type": "stream",
          "name": "stdout",
          "text": [
            "Collecting konlpy\n",
            "  Downloading konlpy-0.5.2-py2.py3-none-any.whl (19.4 MB)\n",
            "\u001b[K     |████████████████████████████████| 19.4 MB 1.5 MB/s \n",
            "\u001b[?25hRequirement already satisfied: tweepy>=3.7.0 in /usr/local/lib/python3.7/dist-packages (from konlpy) (3.10.0)\n",
            "Collecting JPype1>=0.7.0\n",
            "  Downloading JPype1-1.3.0-cp37-cp37m-manylinux_2_5_x86_64.manylinux1_x86_64.whl (448 kB)\n",
            "\u001b[K     |████████████████████████████████| 448 kB 48.1 MB/s \n",
            "\u001b[?25hRequirement already satisfied: numpy>=1.6 in /usr/local/lib/python3.7/dist-packages (from konlpy) (1.19.5)\n",
            "Requirement already satisfied: lxml>=4.1.0 in /usr/local/lib/python3.7/dist-packages (from konlpy) (4.2.6)\n",
            "Collecting beautifulsoup4==4.6.0\n",
            "  Downloading beautifulsoup4-4.6.0-py3-none-any.whl (86 kB)\n",
            "\u001b[K     |████████████████████████████████| 86 kB 5.4 MB/s \n",
            "\u001b[?25hCollecting colorama\n",
            "  Downloading colorama-0.4.4-py2.py3-none-any.whl (16 kB)\n",
            "Requirement already satisfied: typing-extensions in /usr/local/lib/python3.7/dist-packages (from JPype1>=0.7.0->konlpy) (3.7.4.3)\n",
            "Requirement already satisfied: requests[socks]>=2.11.1 in /usr/local/lib/python3.7/dist-packages (from tweepy>=3.7.0->konlpy) (2.23.0)\n",
            "Requirement already satisfied: six>=1.10.0 in /usr/local/lib/python3.7/dist-packages (from tweepy>=3.7.0->konlpy) (1.15.0)\n",
            "Requirement already satisfied: requests-oauthlib>=0.7.0 in /usr/local/lib/python3.7/dist-packages (from tweepy>=3.7.0->konlpy) (1.3.0)\n",
            "Requirement already satisfied: oauthlib>=3.0.0 in /usr/local/lib/python3.7/dist-packages (from requests-oauthlib>=0.7.0->tweepy>=3.7.0->konlpy) (3.1.1)\n",
            "Requirement already satisfied: chardet<4,>=3.0.2 in /usr/local/lib/python3.7/dist-packages (from requests[socks]>=2.11.1->tweepy>=3.7.0->konlpy) (3.0.4)\n",
            "Requirement already satisfied: idna<3,>=2.5 in /usr/local/lib/python3.7/dist-packages (from requests[socks]>=2.11.1->tweepy>=3.7.0->konlpy) (2.10)\n",
            "Requirement already satisfied: certifi>=2017.4.17 in /usr/local/lib/python3.7/dist-packages (from requests[socks]>=2.11.1->tweepy>=3.7.0->konlpy) (2021.5.30)\n",
            "Requirement already satisfied: urllib3!=1.25.0,!=1.25.1,<1.26,>=1.21.1 in /usr/local/lib/python3.7/dist-packages (from requests[socks]>=2.11.1->tweepy>=3.7.0->konlpy) (1.24.3)\n",
            "Requirement already satisfied: PySocks!=1.5.7,>=1.5.6 in /usr/local/lib/python3.7/dist-packages (from requests[socks]>=2.11.1->tweepy>=3.7.0->konlpy) (1.7.1)\n",
            "Installing collected packages: JPype1, colorama, beautifulsoup4, konlpy\n",
            "  Attempting uninstall: beautifulsoup4\n",
            "    Found existing installation: beautifulsoup4 4.6.3\n",
            "    Uninstalling beautifulsoup4-4.6.3:\n",
            "      Successfully uninstalled beautifulsoup4-4.6.3\n",
            "Successfully installed JPype1-1.3.0 beautifulsoup4-4.6.0 colorama-0.4.4 konlpy-0.5.2\n"
          ]
        }
      ]
    },
    {
      "cell_type": "code",
      "metadata": {
        "colab": {
          "base_uri": "https://localhost:8080/"
        },
        "id": "XrD0GhQ7nwAg",
        "outputId": "9b4c9d26-c591-4333-c43d-6c5641353cbe"
      },
      "source": [
        "from konlpy.tag import Okt\n",
        "\n",
        "# ‘+’를 제외한 특수문자를 제거하고, 숫자형태의 문자를 제거합니다.\n",
        "def text_cleaning(text):\n",
        "    text = ''.join(c for c in text if c.isalnum() or c in '+, ')\n",
        "    text = ''.join([i for i in text if not i.isdigit()])\n",
        "    return text\n",
        "\n",
        "# 불용어에 등장하지 않는 형태소만을 추출하여 반환하는 함수입니다.\n",
        "def get_pos(x):\n",
        "    tagger = Okt()\n",
        "    poses = tagger.pos(x)\n",
        "    return [pos[0] for pos in poses if pos[0] not in stopwords]\n",
        "\n",
        "# 위 함수들을 적용한 형태소 추출을 테스트합니다.\n",
        "df['text'] = df['text'].apply(lambda x: text_cleaning(x))\n",
        "result = get_pos(df['text'][0])\n",
        "print(result)"
      ],
      "execution_count": 33,
      "outputs": [
        {
          "output_type": "stream",
          "name": "stdout",
          "text": [
            "['+', '애플', '라이트', '팝니다', '+', '애플', '라이트', '팝니다', '+', '애플', '라이트', '팝니다', '리퍼', '기간', '만료', '되어서', '징', '하게', '되었습니다', '상태', '초', 'a', '급', '스', '없습니다', '+', '애플', '라이트', '팝니다', '+', '애플', '라이트', '팝니다', '리퍼', '기간', '만료', '되어서', '징', '하게', '되었습니다', '상태', '초', 'a', '급', '스', '없습니다', '징', '애플', '라이트', '홈', '버튼', '링', '카메라', '링', '볼륨', '버튼', '슬립', '버튼', '검금', '심플', '튀지', '않게', '이쁘게', '했구요', '유심', '꽂고', '바로', '사용', '하시면', '됩니다', '사람', '이냐', '자주', '물어보고', '실제', '더욱', '이쁩니다', '밤', '영롱하게', '맥북', '뒷', '사과', '로고', '비춰지고', '요전', '넘어가기', '위해', '합니다', '가능합니다', '박스', '어머니', '버리시고', '이어폰', '충전기', '정품', '드립니다', '직거래', '우선', '순', '위로', '정', '싶으시면', '선', '입금', '택배', '발송', '해드리겠습니다', '믿으시면', '직거래', '하시길', '추천', '해요', '안전', '합니다', '서울시', '강남구', '역삼동', '차병원', '사거리', '근처', '가격']\n"
          ]
        }
      ]
    },
    {
      "cell_type": "code",
      "metadata": {
        "colab": {
          "base_uri": "https://localhost:8080/",
          "height": 161
        },
        "id": "XORT53nTqwEn",
        "outputId": "3cd5cb23-210a-4322-8143-b33eb26e285a"
      },
      "source": [
        "df['text'][0]"
      ],
      "execution_count": 34,
      "outputs": [
        {
          "output_type": "execute_result",
          "data": {
            "application/vnd.google.colaboratory.intrinsic+json": {
              "type": "string"
            },
            "text/plain": [
              "'아이폰플러스 블랙+애플라이트 기가 팝니다  아이폰플러스 블랙+애플라이트 기가 팝니다        아이폰플러스 블랙+애플라이트 기가 팝니다 리퍼기간이 만료되어서 하우징을 하게되었습니다 상태 초a급 기스도없습니다 아 아이폰플러스 블랙+애플라이트 기가 팝니다 아이폰플러스 블랙+애플라이트 기가 팝니다 리퍼기간이 만료되어서 하우징을 하게되었습니다 상태 초a급 기스도없습니다 블랙하우징,애플라이트,골드홈버튼링,골드카메라링,골드볼륨버튼,골드슬립버튼 검금으로 심플하고 튀지않게 이쁘게 했구요유심만 꽂고 바로 사용하시면 됩니다 사람들이 아이폰이냐고 자주물어보고 실제로보시면 더욱이쁩니다 밤에 영롱하게 맥북처럼 뒷면에 사과로고가 비춰지고요전 아이폰으로 넘어가기위해서 판매합니다 skt kt lg 사 다가능합니다 박스는 어머니가 버리시고이어폰,충전기,usb 정품으로 모두 드립니다 직거래를 우선순위로하고 정구매하고싶으시면 선입금후 택배로 발송해드리겠습니다 못믿으시면 직거래하시길 추천해요 안전거래 안합니다 지역서울시 강남구 역삼동 차병원사거리 근처가격 만원'"
            ]
          },
          "metadata": {},
          "execution_count": 34
        }
      ]
    },
    {
      "cell_type": "markdown",
      "metadata": {
        "id": "gyAt17wxnwAg"
      },
      "source": [
        "-----"
      ]
    },
    {
      "cell_type": "markdown",
      "metadata": {
        "id": "EReP60ognwAg"
      },
      "source": [
        "##### 빈출 형태소 3000개 선정"
      ]
    },
    {
      "cell_type": "code",
      "metadata": {
        "colab": {
          "base_uri": "https://localhost:8080/"
        },
        "id": "O1qbcDz7nwAg",
        "outputId": "701110fc-1c81-4575-945c-ad8d68c0ce80"
      },
      "source": [
        "from collections import Counter\n",
        "\n",
        "# get_pos 함수를 모든 텍스트 데이터에 적용하여 형태소 말뭉치를 추출합니다.\n",
        "corpus = sum(df['text'].apply(lambda x: get_pos(x)).tolist(), [])\n",
        "\n",
        "# 추출된 형태소 말뭉치에서 가장 많이 등장한 형태소 2500개를 추출합니다.\n",
        "counter = Counter(corpus)\n",
        "common_words = [key for key, _ in counter.most_common(2500)]\n",
        "common_words"
      ],
      "execution_count": 35,
      "outputs": [
        {
          "output_type": "execute_result",
          "data": {
            "text/plain": [
              "['입니다',\n",
              " '직거래',\n",
              " 's',\n",
              " '합니다',\n",
              " '택배',\n",
              " '사용',\n",
              " '급',\n",
              " '상태',\n",
              " '팝니다',\n",
              " '가능합니다',\n",
              " '정상',\n",
              " '사진',\n",
              " '가격',\n",
              " '+',\n",
              " '케이스',\n",
              " 'a',\n",
              " '주세요',\n",
              " '해지',\n",
              " '삭제',\n",
              " '제품',\n",
              " '있습니다',\n",
              " '박스',\n",
              " '가능',\n",
              " '직접',\n",
              " '액정',\n",
              " '배터리',\n",
              " '성품',\n",
              " '필름',\n",
              " '리퍼',\n",
              " '충전기',\n",
              " '없습니다',\n",
              " '풀',\n",
              " '개통',\n",
              " '유심',\n",
              " '즈',\n",
              " '안전',\n",
              " '스',\n",
              " '하기',\n",
              " '신청',\n",
              " '드립니다',\n",
              " '통신사',\n",
              " '구입',\n",
              " '약정',\n",
              " '이어폰',\n",
              " '공기',\n",
              " '새',\n",
              " '기변',\n",
              " '포함',\n",
              " '모델',\n",
              " '선택',\n",
              " '됩니다',\n",
              " '확인',\n",
              " '기간',\n",
              " '기스',\n",
              " '그레이',\n",
              " '찍힘',\n",
              " '방법',\n",
              " '바로',\n",
              " '할인',\n",
              " '제',\n",
              " '시기',\n",
              " '스페이스',\n",
              " '희망',\n",
              " '번호',\n",
              " '중고나라',\n",
              " '본체',\n",
              " '같이',\n",
              " '생활',\n",
              " '잘',\n",
              " '무',\n",
              " '퀵',\n",
              " '글',\n",
              " '된',\n",
              " '않을',\n",
              " '공식',\n",
              " '앱',\n",
              " '확정',\n",
              " '기능',\n",
              " '다운',\n",
              " '양',\n",
              " '호환',\n",
              " '케이블',\n",
              " '받기',\n",
              " '미',\n",
              " '이메일',\n",
              " '작성',\n",
              " '부분',\n",
              " '금지',\n",
              " '될수',\n",
              " '식아이디',\n",
              " '허위',\n",
              " '임의',\n",
              " '통보',\n",
              " '채우지',\n",
              " '핸드폰',\n",
              " '편한',\n",
              " '전혀',\n",
              " '충전',\n",
              " '내용',\n",
              " '연락처',\n",
              " '단말기',\n",
              " '부산',\n",
              " '대구',\n",
              " '미사',\n",
              " '정품',\n",
              " '중고',\n",
              " '문제',\n",
              " '없이',\n",
              " '이상',\n",
              " '보호',\n",
              " '방문',\n",
              " '없는',\n",
              " '외관',\n",
              " '외',\n",
              " '인천',\n",
              " '깨끗합니다',\n",
              " 'x',\n",
              " '초기',\n",
              " '하나',\n",
              " '참고',\n",
              " '이구',\n",
              " '요금',\n",
              " '개월',\n",
              " '이나',\n",
              " '사이트',\n",
              " '팔아요',\n",
              " '하시면',\n",
              " '했습니다',\n",
              " '동',\n",
              " '카페',\n",
              " '보내',\n",
              " '카톡',\n",
              " '블로그',\n",
              " '링크',\n",
              " '싸이',\n",
              " '강퇴',\n",
              " '삼성',\n",
              " '거치',\n",
              " '있는',\n",
              " '호선',\n",
              " '모든',\n",
              " '입금',\n",
              " '처리',\n",
              " '없음',\n",
              " '뒷',\n",
              " '핑크',\n",
              " '카메라',\n",
              " '거주지',\n",
              " '공',\n",
              " '하여',\n",
              " '역도',\n",
              " '재판매',\n",
              " '유도',\n",
              " '선',\n",
              " '교체',\n",
              " '강화유리',\n",
              " '경매',\n",
              " '만만',\n",
              " '부탁드립니다',\n",
              " '구성',\n",
              " '필수',\n",
              " '차대',\n",
              " '재시',\n",
              " '없고',\n",
              " '전체',\n",
              " '파손',\n",
              " '다른',\n",
              " '가능하며',\n",
              " '작동',\n",
              " '가능한',\n",
              " '교환',\n",
              " '드리겠습니다',\n",
              " '좋습니다',\n",
              " '기계',\n",
              " '생각',\n",
              " '그대로',\n",
              " '추가',\n",
              " '약간',\n",
              " '살짝',\n",
              " '바랍니다',\n",
              " '테두리',\n",
              " '풀박',\n",
              " '미개',\n",
              " '거의',\n",
              " '부담',\n",
              " '쪽',\n",
              " '조금',\n",
              " '비',\n",
              " '주시',\n",
              " 'as',\n",
              " '하지',\n",
              " '싸게',\n",
              " '때',\n",
              " '하겠습니다',\n",
              " '봉',\n",
              " '완전',\n",
              " '상품',\n",
              " '댓글',\n",
              " '착불',\n",
              " '부착',\n",
              " '때문',\n",
              " '금액',\n",
              " '아주',\n",
              " '폴더',\n",
              " '원하시면',\n",
              " '와인',\n",
              " '할',\n",
              " '하며',\n",
              " '수',\n",
              " '하단',\n",
              " '현재',\n",
              " '거주',\n",
              " '한번',\n",
              " '버튼',\n",
              " '더',\n",
              " '가능하고',\n",
              " '정말',\n",
              " '있고',\n",
              " '엘지',\n",
              " '커버',\n",
              " '블루',\n",
              " '번',\n",
              " '원합니다',\n",
              " '기본',\n",
              " '해주세요',\n",
              " '터치',\n",
              " '그냥',\n",
              " '하는',\n",
              " '용감',\n",
              " '시간',\n",
              " '전부',\n",
              " '대전',\n",
              " '되어',\n",
              " '통화',\n",
              " '센터',\n",
              " '있구요',\n",
              " '쿨',\n",
              " '깨끗한',\n",
              " '앞',\n",
              " '새거',\n",
              " '미국',\n",
              " '같습니다',\n",
              " '광주',\n",
              " '근처',\n",
              " '없구요',\n",
              " '하실',\n",
              " '착',\n",
              " '방식',\n",
              " '환불',\n",
              " '애플',\n",
              " '아래',\n",
              " '서비스',\n",
              " '젤리',\n",
              " '유리',\n",
              " '가능하구요',\n",
              " '선호',\n",
              " '않습니다',\n",
              " '수원',\n",
              " '모서리',\n",
              " '곳',\n",
              " '달',\n",
              " '하세요',\n",
              " '스마트폰',\n",
              " '화면',\n",
              " '경기도',\n",
              " '신품',\n",
              " '강화',\n",
              " '제트',\n",
              " '드려요',\n",
              " '특',\n",
              " '부품',\n",
              " '발송',\n",
              " '년월',\n",
              " '상단',\n",
              " '유플러스',\n",
              " '새것',\n",
              " '이후',\n",
              " '풀셋',\n",
              " '좋은',\n",
              " '사양',\n",
              " '홍',\n",
              " '역',\n",
              " '개봉',\n",
              " '테스트',\n",
              " '수리',\n",
              " '있어요',\n",
              " '아무',\n",
              " '투명',\n",
              " '잔기스',\n",
              " '흠집',\n",
              " '미노트',\n",
              " '분실',\n",
              " '천안',\n",
              " '받은',\n",
              " '나머지',\n",
              " '점',\n",
              " '하자',\n",
              " '하시고',\n",
              " '저렴하게',\n",
              " '않은',\n",
              " '신분',\n",
              " '유',\n",
              " '용량',\n",
              " '하시는',\n",
              " '전면',\n",
              " '언락폰',\n",
              " '양호',\n",
              " '금',\n",
              " '하였습니다',\n",
              " '보시다시피',\n",
              " '별도',\n",
              " '하구요',\n",
              " '방탄',\n",
              " '스그',\n",
              " '여분',\n",
              " '본',\n",
              " '하셔도',\n",
              " '무상',\n",
              " '따로',\n",
              " '세이프',\n",
              " '좀',\n",
              " '와이파이',\n",
              " '무선',\n",
              " '제외',\n",
              " '종',\n",
              " '되었습니다',\n",
              " '천원',\n",
              " '프로',\n",
              " '눌',\n",
              " '매트',\n",
              " '배송',\n",
              " '약',\n",
              " '절충',\n",
              " '했구요',\n",
              " '우선',\n",
              " '대리점',\n",
              " '인터넷',\n",
              " '없으며',\n",
              " '수수료',\n",
              " '다시',\n",
              " '초',\n",
              " '끼',\n",
              " '평일',\n",
              " '삽니다',\n",
              " '고장',\n",
              " '이번',\n",
              " '부근',\n",
              " '겁니다',\n",
              " '아님',\n",
              " '매장',\n",
              " '해드립니다',\n",
              " '보조',\n",
              " '하던',\n",
              " '인식',\n",
              " '불량',\n",
              " '포장',\n",
              " '부천',\n",
              " '걸',\n",
              " '군데',\n",
              " '베가',\n",
              " '언제',\n",
              " '월일',\n",
              " '첨부',\n",
              " '전주',\n",
              " '항상',\n",
              " '갤',\n",
              " '처분',\n",
              " '불가',\n",
              " '비는',\n",
              " '매우',\n",
              " '남음',\n",
              " '없어요',\n",
              " '참조',\n",
              " '국내',\n",
              " '언',\n",
              " '가입',\n",
              " '잔',\n",
              " '지문',\n",
              " '있어서',\n",
              " '장소',\n",
              " '절대',\n",
              " '밑',\n",
              " '해외',\n",
              " '되는',\n",
              " '용인',\n",
              " '적용',\n",
              " '오시',\n",
              " '옵티머스',\n",
              " '있으며',\n",
              " '유니크로',\n",
              " '무음',\n",
              " '실사',\n",
              " '분만',\n",
              " '좋아요',\n",
              " '팔',\n",
              " '안녕하세요',\n",
              " '하면서',\n",
              " '답변',\n",
              " '작은',\n",
              " '젠더',\n",
              " '가능해요',\n",
              " '아직',\n",
              " '당연히',\n",
              " '넥서스',\n",
              " '최초',\n",
              " '불입',\n",
              " '삼',\n",
              " '베터리',\n",
              " '드릴게요',\n",
              " '개인',\n",
              " '오른쪽',\n",
              " '아이디',\n",
              " '밧데리',\n",
              " '드릴께요',\n",
              " '스크래치',\n",
              " '보관',\n",
              " '관심',\n",
              " '있지만',\n",
              " '선불',\n",
              " '변경',\n",
              " '큰',\n",
              " '되고',\n",
              " '팩',\n",
              " '공장',\n",
              " '급처',\n",
              " '꼭',\n",
              " '예약',\n",
              " '혹시',\n",
              " '감사합니다',\n",
              " '출구',\n",
              " '이용',\n",
              " '되구요',\n",
              " '안심',\n",
              " '내장',\n",
              " '펜',\n",
              " '먼저',\n",
              " '했던',\n",
              " '버전',\n",
              " '아닙니다',\n",
              " '메인보드',\n",
              " '안산',\n",
              " '한지',\n",
              " '안됩니다',\n",
              " '주말',\n",
              " '사절',\n",
              " '스마트',\n",
              " '하면',\n",
              " '용이',\n",
              " '한국',\n",
              " '문',\n",
              " '최상',\n",
              " '오늘',\n",
              " '겔럭시',\n",
              " '맥스',\n",
              " '하게',\n",
              " '너무',\n",
              " '필요하시면',\n",
              " '자국',\n",
              " '일본',\n",
              " '물',\n",
              " '홈',\n",
              " '보기',\n",
              " '지금',\n",
              " '있음',\n",
              " 'nbsp',\n",
              " '최대한',\n",
              " '홍콩',\n",
              " '저녁',\n",
              " '답장',\n",
              " '보니',\n",
              " '가지',\n",
              " '있는데',\n",
              " '궁금하신',\n",
              " '쓰던',\n",
              " '보고',\n",
              " '왼쪽',\n",
              " '깨끗하고',\n",
              " '택포',\n",
              " '쪽지',\n",
              " '있으면',\n",
              " '작년',\n",
              " '기타',\n",
              " '반품',\n",
              " '뒤',\n",
              " '많은',\n",
              " '사항',\n",
              " '만료',\n",
              " '락',\n",
              " '문의사항',\n",
              " '아이언',\n",
              " '자세한',\n",
              " '상처',\n",
              " '그랜드',\n",
              " '범퍼',\n",
              " '붙여서',\n",
              " '진행',\n",
              " '청주',\n",
              " 'schw',\n",
              " '알파',\n",
              " '남아있습니다',\n",
              " '분당',\n",
              " '위해',\n",
              " '배송비',\n",
              " '망',\n",
              " '기준',\n",
              " '카드',\n",
              " '드리구요',\n",
              " '네오',\n",
              " '사실',\n",
              " '임',\n",
              " '보이는',\n",
              " '오후',\n",
              " '사파이어',\n",
              " '새로',\n",
              " '조건',\n",
              " '침수',\n",
              " '인근',\n",
              " '해요',\n",
              " '자세히',\n",
              " '처음',\n",
              " '강남',\n",
              " '환영',\n",
              " '이어팟',\n",
              " '물건',\n",
              " '원하시는',\n",
              " '등록',\n",
              " '이미지',\n",
              " '일산',\n",
              " '이동',\n",
              " '또한',\n",
              " '징',\n",
              " '비닐',\n",
              " '찍힘이',\n",
              " '완납',\n",
              " '무료',\n",
              " '단자',\n",
              " '이외',\n",
              " '연',\n",
              " '금제',\n",
              " '구성은',\n",
              " '찍힌',\n",
              " '의사',\n",
              " '중화역',\n",
              " '있으나',\n",
              " '하니',\n",
              " '부',\n",
              " '의정부',\n",
              " '있으니',\n",
              " '일반',\n",
              " '남았습니다',\n",
              " '칩',\n",
              " '톡',\n",
              " '엑스페리아',\n",
              " '후시',\n",
              " '받지',\n",
              " '붙여',\n",
              " '빠른',\n",
              " '락폰',\n",
              " '개호환',\n",
              " '현상',\n",
              " '대개',\n",
              " '얼마',\n",
              " '제거',\n",
              " '감안',\n",
              " '했는데',\n",
              " '하였고',\n",
              " '안전거래도',\n",
              " '팜',\n",
              " '하려고',\n",
              " '올립니다',\n",
              " '예정',\n",
              " '유지',\n",
              " '목포',\n",
              " '월희',\n",
              " '알뜰폰',\n",
              " '둘다',\n",
              " '성남',\n",
              " '악세사리',\n",
              " '공공',\n",
              " '물품',\n",
              " '크게',\n",
              " '울산',\n",
              " '안양',\n",
              " '심',\n",
              " '같은',\n",
              " '집',\n",
              " '어댑터',\n",
              " '않았습니다',\n",
              " 'iphone',\n",
              " '검수',\n",
              " '정중히',\n",
              " '레드',\n",
              " '전화기',\n",
              " '빼',\n",
              " '화웨이',\n",
              " '경기',\n",
              " '내년',\n",
              " '이력',\n",
              " '업무',\n",
              " '샤오미',\n",
              " '짐',\n",
              " '용기',\n",
              " '일단',\n",
              " '받고',\n",
              " '각',\n",
              " '있으시면',\n",
              " '광역시',\n",
              " '창원',\n",
              " '결과',\n",
              " '가죽',\n",
              " '설정',\n",
              " '하셔서',\n",
              " '어디',\n",
              " '이면',\n",
              " '지프로',\n",
              " '했고',\n",
              " '결제',\n",
              " '데이터',\n",
              " '전원',\n",
              " '미세한',\n",
              " 'aa',\n",
              " '가능하니',\n",
              " '있으',\n",
              " '써서',\n",
              " '받습니다',\n",
              " '기존',\n",
              " '등등',\n",
              " '없네요',\n",
              " '되도록',\n",
              " '무기',\n",
              " '실기',\n",
              " '자부',\n",
              " '아시겠지만',\n",
              " '세트',\n",
              " '반',\n",
              " '눈',\n",
              " '우측',\n",
              " '언락',\n",
              " '올해',\n",
              " '빨리',\n",
              " '제조',\n",
              " '++',\n",
              " '주변',\n",
              " '않으며',\n",
              " '봅니다',\n",
              " '지원',\n",
              " '함',\n",
              " '상관없이',\n",
              " '입니다구',\n",
              " '이유',\n",
              " '가서',\n",
              " '위주',\n",
              " '않고',\n",
              " '출시',\n",
              " '화이트골드',\n",
              " '오닉스',\n",
              " '티',\n",
              " '내부',\n",
              " '쓰실',\n",
              " '없어서',\n",
              " 'slte',\n",
              " '현금',\n",
              " '챙겨',\n",
              " '말씀',\n",
              " '보증',\n",
              " '에누리',\n",
              " 'sktg',\n",
              " '전용',\n",
              " '신용',\n",
              " '헬로모바일',\n",
              " '통일',\n",
              " '실제',\n",
              " '드리고',\n",
              " '깨끗하게',\n",
              " '스피커',\n",
              " '총',\n",
              " '흰색',\n",
              " '우체국택배',\n",
              " '보면',\n",
              " '통신',\n",
              " '스카이',\n",
              " '쓰시',\n",
              " '밖에',\n",
              " '원래',\n",
              " '정보',\n",
              " '물론',\n",
              " '날',\n",
              " '마지막',\n",
              " '되어있습니다',\n",
              " '받았습니다',\n",
              " '애플스토어',\n",
              " '믿고',\n",
              " '흔적',\n",
              " '되면',\n",
              " '통',\n",
              " '드림',\n",
              " '실리콘',\n",
              " '선물',\n",
              " '위치',\n",
              " '조정',\n",
              " '회사',\n",
              " 'plus',\n",
              " '근무',\n",
              " '바',\n",
              " '내놓습니다',\n",
              " '상해',\n",
              " '붙이',\n",
              " '있어',\n",
              " '지장',\n",
              " '되지',\n",
              " '셋',\n",
              " '부평',\n",
              " '편입',\n",
              " '김포',\n",
              " '의무',\n",
              " '안전하게',\n",
              " '일이',\n",
              " '시크릿',\n",
              " '칠',\n",
              " '거리',\n",
              " '인치',\n",
              " '역시',\n",
              " '흥정',\n",
              " '찔러',\n",
              " '빼고',\n",
              " '순천',\n",
              " 'c',\n",
              " '비밀번호',\n",
              " '잠금',\n",
              " 'sphw',\n",
              " '부탁',\n",
              " 'cj',\n",
              " '직',\n",
              " '되며',\n",
              " '성능',\n",
              " '최상급',\n",
              " 'aaa',\n",
              " '사서',\n",
              " '해지한',\n",
              " '램',\n",
              " '잠실',\n",
              " '스크레치',\n",
              " '걱정',\n",
              " '늦어요',\n",
              " '법적',\n",
              " '찍힘은',\n",
              " '순',\n",
              " '불로',\n",
              " '없지만',\n",
              " 'lgsu',\n",
              " '다녀서',\n",
              " '넣어',\n",
              " '쓰고',\n",
              " '카카오',\n",
              " '받아서',\n",
              " '일주일',\n",
              " '지하철',\n",
              " '직구',\n",
              " '무조건',\n",
              " '평택',\n",
              " '협의',\n",
              " '루나',\n",
              " '잔기',\n",
              " '좋구요',\n",
              " '끝',\n",
              " '죄송합니다',\n",
              " '법',\n",
              " '빠르게',\n",
              " '하다가',\n",
              " '찍어',\n",
              " '안나',\n",
              " '로만',\n",
              " '브라운',\n",
              " '육',\n",
              " '티타늄',\n",
              " '안전한',\n",
              " '책임집니다',\n",
              " '되서',\n",
              " 'note',\n",
              " '색',\n",
              " '티탄',\n",
              " '여기',\n",
              " '일체',\n",
              " '메모리',\n",
              " '측면',\n",
              " '옆',\n",
              " '드릴수',\n",
              " '오셔서',\n",
              " '외부',\n",
              " 'gold',\n",
              " '빼고는',\n",
              " '우체국',\n",
              " '깨짐',\n",
              " '고객',\n",
              " '좋음',\n",
              " '특성',\n",
              " '기단',\n",
              " 'lt',\n",
              " 'dmb',\n",
              " 'lglu',\n",
              " '좋겠습니다',\n",
              " '계속',\n",
              " '위쪽',\n",
              " '알',\n",
              " '하는데',\n",
              " '깨끗이',\n",
              " '하루',\n",
              " '드릴',\n",
              " '롬',\n",
              " '애지중지',\n",
              " '정',\n",
              " '서울시',\n",
              " '편이',\n",
              " '관계',\n",
              " '신규',\n",
              " '년도',\n",
              " '하였으며',\n",
              " '업',\n",
              " '어플',\n",
              " '지난',\n",
              " '쓴',\n",
              " '방수',\n",
              " '조회',\n",
              " '관',\n",
              " '하셔야',\n",
              " '시오',\n",
              " '슈피겐',\n",
              " '앞뒤',\n",
              " '추천',\n",
              " 'lgsh',\n",
              " '서구',\n",
              " '상관없습니다',\n",
              " '가능하십니다',\n",
              " 'm',\n",
              " '울',\n",
              " '별로',\n",
              " '이상무',\n",
              " '고속',\n",
              " '마시고',\n",
              " '등급',\n",
              " '저촉',\n",
              " '이기',\n",
              " '됐습니다',\n",
              " 'smnk',\n",
              " '끝났습니다',\n",
              " '취급',\n",
              " '요청',\n",
              " '동봉',\n",
              " '팬택',\n",
              " '수준',\n",
              " '맨',\n",
              " '깨끗함',\n",
              " '세용',\n",
              " '동대문구',\n",
              " '깨진',\n",
              " '보입니다',\n",
              " '강동',\n",
              " '사설',\n",
              " '계양구',\n",
              " '업자',\n",
              " '퀄컴',\n",
              " '바꾸게',\n",
              " '본인',\n",
              " '키',\n",
              " '되있습니다',\n",
              " '이내',\n",
              " '진동',\n",
              " '같은거',\n",
              " '사은',\n",
              " '않아',\n",
              " '스티커',\n",
              " '깔끔한',\n",
              " '뽁뽁',\n",
              " '송파',\n",
              " '여부',\n",
              " '홍대',\n",
              " '롤리팝',\n",
              " '핀',\n",
              " 'im',\n",
              " '깨끗',\n",
              " '블루투스',\n",
              " '씌우고',\n",
              " '깔끔합니다',\n",
              " '라인',\n",
              " '했어요',\n",
              " '남아',\n",
              " '쓰셔도',\n",
              " '할부',\n",
              " '값',\n",
              " '라이트닝',\n",
              " '해드리겠습니다',\n",
              " '보이지',\n",
              " '남겨주세요',\n",
              " '하다',\n",
              " '샤베트',\n",
              " 'p',\n",
              " '검색',\n",
              " '끼워서',\n",
              " '인하',\n",
              " '남은',\n",
              " '받을',\n",
              " '관련',\n",
              " '드리고요',\n",
              " '경산',\n",
              " '끼우면',\n",
              " '사기',\n",
              " '영',\n",
              " '광양',\n",
              " '퀵서비스',\n",
              " '사람',\n",
              " '넣어서',\n",
              " '아니니',\n",
              " '마세요',\n",
              " '상의',\n",
              " '짜리',\n",
              " '현',\n",
              " '낮',\n",
              " '깨끗해요',\n",
              " '여러',\n",
              " '잭',\n",
              " '흠',\n",
              " '됨',\n",
              " '끝난',\n",
              " '설치',\n",
              " '있는거',\n",
              " '가장',\n",
              " '진짜',\n",
              " '광대역',\n",
              " '없다고',\n",
              " '찍힘이나',\n",
              " '원하구요',\n",
              " 'ok',\n",
              " 'lgkh',\n",
              " '자급',\n",
              " '아이',\n",
              " '경남',\n",
              " '오전',\n",
              " '부탁드려요',\n",
              " '일괄',\n",
              " '가셔서',\n",
              " '올려',\n",
              " '하시기',\n",
              " '대신',\n",
              " '촬영',\n",
              " '전북',\n",
              " '바꾸면서',\n",
              " '저장',\n",
              " '한글',\n",
              " '시세',\n",
              " '상자',\n",
              " '여수',\n",
              " '칠이사이',\n",
              " '답터',\n",
              " '착용',\n",
              " '이전',\n",
              " '멀쩡합니다',\n",
              " '연결',\n",
              " '해보니',\n",
              " '최저',\n",
              " '당일',\n",
              " '편의점',\n",
              " 'shves',\n",
              " '써',\n",
              " '회',\n",
              " '알리',\n",
              " '드리며',\n",
              " '없고요',\n",
              " '파는',\n",
              " '있네요',\n",
              " '아예',\n",
              " '중랑구',\n",
              " '일자',\n",
              " '있고요',\n",
              " '월말',\n",
              " '쓰다가',\n",
              " '여서',\n",
              " '와같이',\n",
              " '받아',\n",
              " '소니',\n",
              " '스타일',\n",
              " '휘',\n",
              " '긁',\n",
              " '되었고',\n",
              " '요구',\n",
              " '가구',\n",
              " '뭐',\n",
              " '강동구',\n",
              " '실물',\n",
              " '넣고',\n",
              " '붙어있는',\n",
              " '되요',\n",
              " '가능하고요',\n",
              " '정식',\n",
              " '강남역',\n",
              " '눌러서',\n",
              " '점검',\n",
              " '일대',\n",
              " '보험',\n",
              " '밤',\n",
              " '둘',\n",
              " ...]"
            ]
          },
          "metadata": {},
          "execution_count": 35
        }
      ]
    },
    {
      "cell_type": "markdown",
      "metadata": {
        "id": "kPewa8X3nwAg"
      },
      "source": [
        "-----"
      ]
    },
    {
      "cell_type": "markdown",
      "metadata": {
        "id": "YWNj6O5TnwAg"
      },
      "source": [
        "##### TF-IDF 벡터 생성"
      ]
    },
    {
      "cell_type": "code",
      "metadata": {
        "colab": {
          "base_uri": "https://localhost:8080/"
        },
        "id": "6bYhY0pSnwAg",
        "outputId": "ceda5363-be78-4313-b5ac-d38be4341d1b"
      },
      "source": [
        "df['price_level'].value_counts()"
      ],
      "execution_count": 36,
      "outputs": [
        {
          "output_type": "execute_result",
          "data": {
            "text/plain": [
              "1    4296\n",
              "0     334\n",
              "2     321\n",
              "Name: price_level, dtype: int64"
            ]
          },
          "metadata": {},
          "execution_count": 36
        }
      ]
    },
    {
      "cell_type": "code",
      "metadata": {
        "colab": {
          "base_uri": "https://localhost:8080/"
        },
        "id": "RYqTMPiMnwAg",
        "outputId": "d8b09e85-8481-4062-99ad-807532388ab3"
      },
      "source": [
        "from sklearn.feature_extraction.text import CountVectorizer\n",
        "from sklearn.feature_extraction.text import TfidfTransformer\n",
        "\n",
        "# 빈출 형태소를 제외한 모든 형태소를 제거하는 함수를 정의합니다.\n",
        "def get_common_pos(x):\n",
        "    tagger = Okt()\n",
        "    poses = tagger.pos(x)\n",
        "    return [pos[0] for pos in poses if pos[0] in common_words]\n",
        "\n",
        "# 1:3:1 비율로 랜덤 샘플링을 수행합니다. => 나누는 이유 : 학습에 쓸 데이터 만듦\n",
        "negative_random = df[df['price_level'] == '0'].sample(321, random_state=30)\n",
        "neutral_random = df[df['price_level'] == '1'].sample(321 * 3, random_state=30)\n",
        "positive_random = df[df['price_level'] == '2'].sample(321, random_state=30)\n",
        "\n",
        "# 샘플링 완료된 데이터셋을 정의합니다.\n",
        "df_sample = negative_random.append(neutral_random).append(positive_random)\n",
        "\n",
        "# TF-IDF를 수행하여 피처를 변환합니다.\n",
        "index_vectorizer = CountVectorizer(tokenizer = lambda x: get_common_pos(x))\n",
        "X = index_vectorizer.fit_transform(df_sample['text'].tolist())\n",
        "tfidf_vectorizer = TfidfTransformer()\n",
        "X = tfidf_vectorizer.fit_transform(X)\n",
        "\n",
        "# 감성 분류를 위한 학습 데이터셋을 정의합니다.\n",
        "y = df_sample['price_level']\n",
        "\n",
        "# train 80%, test 20%\n",
        "x_train, x_test, y_train, y_test = train_test_split(X, y, test_size=0.20, random_state=30)\n",
        "print(x_train.shape)\n",
        "print(x_test.shape)"
      ],
      "execution_count": 37,
      "outputs": [
        {
          "output_type": "stream",
          "name": "stdout",
          "text": [
            "(1284, 2476)\n",
            "(321, 2476)\n"
          ]
        }
      ]
    },
    {
      "cell_type": "markdown",
      "metadata": {
        "id": "nG6eAyvbnwAh"
      },
      "source": [
        "-----"
      ]
    },
    {
      "cell_type": "markdown",
      "metadata": {
        "id": "zvSSWD9vnwAh"
      },
      "source": [
        "##### 상품 상태 분류하기"
      ]
    },
    {
      "cell_type": "code",
      "metadata": {
        "colab": {
          "base_uri": "https://localhost:8080/"
        },
        "id": "3TosVt48nwAh",
        "outputId": "e49decc4-4b15-48f0-907d-41f04220b7d5"
      },
      "source": [
        "from sklearn.metrics import accuracy_score\n",
        "from sklearn.svm import SVC\n",
        "\n",
        "# 비선형 SVM 분류 모델을 학습하고 평가합니다.\n",
        "svm = SVC(kernel='rbf', C=10.0, random_state=0, gamma=0.10)\n",
        "svm.fit(x_train, y_train)\n",
        "y_pred_ksvc = svm.predict(x_test)\n",
        "print('Accuracy: %.2f' % accuracy_score(y_test, y_pred_ksvc))"
      ],
      "execution_count": 38,
      "outputs": [
        {
          "output_type": "stream",
          "name": "stdout",
          "text": [
            "Accuracy: 0.77\n"
          ]
        }
      ]
    },
    {
      "cell_type": "code",
      "metadata": {
        "colab": {
          "base_uri": "https://localhost:8080/"
        },
        "id": "EDvm0CJxnwAh",
        "outputId": "ed7cd716-c7a6-45fc-cb70-e8854bcf23ec"
      },
      "source": [
        "from sklearn.metrics import confusion_matrix\n",
        "\n",
        "# Confusion Matrix를 출력합니다.\n",
        "confmat = confusion_matrix(y_true=y_test, y_pred=y_pred_ksvc)\n",
        "print(confmat)"
      ],
      "execution_count": 39,
      "outputs": [
        {
          "output_type": "stream",
          "name": "stdout",
          "text": [
            "[[ 30  28   4]\n",
            " [ 10 181  10]\n",
            " [  2  21  35]]\n"
          ]
        }
      ]
    },
    {
      "cell_type": "markdown",
      "metadata": {
        "id": "4bA14SVsnwAh"
      },
      "source": [
        "-----"
      ]
    },
    {
      "cell_type": "markdown",
      "metadata": {
        "id": "xyfQxcXinwAi"
      },
      "source": [
        "# <Step3. 예측> : 중고폰 거래가 예측"
      ]
    },
    {
      "cell_type": "markdown",
      "metadata": {
        "id": "V5Y4WUdBnwAi"
      },
      "source": [
        "### [Random forest regressor 재학습]"
      ]
    },
    {
      "cell_type": "code",
      "metadata": {
        "colab": {
          "base_uri": "https://localhost:8080/",
          "height": 481
        },
        "id": "Nputx5uAnwAi",
        "outputId": "f4e3d44b-5405-42be-d6c0-5cf95e229a31"
      },
      "source": [
        "# text 피처로부터  '상품 상태 피처(product_status)' 를 생성합니다.\n",
        "X = index_vectorizer.transform(df['text'].tolist())\n",
        "X = tfidf_vectorizer.transform(X)\n",
        "df['product_status'] = pd.Series(svm.predict(X))\n",
        "\n",
        "# 랜덤 포레스트 모델 학습을 위한 데이터를 준비합니다.\n",
        "df = df[['price', 'factory_price', 'maker', 'price_index', 'create_time_score', 'phone_model_storage',\n",
        "                'phone_model_detail', 'product_status']]\n",
        "df = pd.get_dummies(df, columns=['maker', 'phone_model_storage', 'phone_model_detail', 'product_status'])\n",
        "\n",
        "# 학습/테스트 데이터를 분리합니다.\n",
        "X = df.loc[:, df.columns != 'price']\n",
        "y = df['price']\n",
        "X_train, X_test, y_train, y_test = train_test_split(X, y , test_size=0.3, random_state=0)\n",
        "\n",
        "# 랜덤 포레스트 모델을 학습하고 평가합니다.\n",
        "forest = RandomForestRegressor(n_estimators=1000, criterion='mse')\n",
        "\n",
        "forest.fit(X_train, y_train)\n",
        "y_train_pred = forest.predict(X_train)\n",
        "y_test_pred = forest.predict(X_test)\n",
        "print('MSE train: %.3f, test: %.3f' % (\n",
        "        mean_squared_error(y_train, y_train_pred),\n",
        "        mean_squared_error(y_test, y_test_pred)))\n",
        "print('R^2 train: %.3f, test: %.3f' % (\n",
        "        r2_score(y_train, y_train_pred),\n",
        "        r2_score(y_test, y_test_pred)))\n",
        "\n",
        "# 피처 중요도 plot을 출력합니다.\n",
        "importances =  forest.feature_importances_\n",
        "plt.plot(importances, \"o\")\n",
        "\n",
        "# 피처 중요도를 print로 출력합니다.\n",
        "feat_labels = X.columns.tolist()\n",
        "feature = list(zip(feat_labels, forest.feature_importances_))\n",
        "sorted(feature, key=lambda tup: tup[1], reverse=True)[:10]"
      ],
      "execution_count": 40,
      "outputs": [
        {
          "output_type": "stream",
          "name": "stdout",
          "text": [
            "MSE train: 4766363552.955, test: 11032769195.076\n",
            "R^2 train: 0.902, test: 0.748\n"
          ]
        },
        {
          "output_type": "execute_result",
          "data": {
            "text/plain": [
              "[('maker_apple', 0.25302685555651233),\n",
              " ('factory_price', 0.24904541322330231),\n",
              " ('create_time_score', 0.11684655965737807),\n",
              " ('phone_model_storage_16gb', 0.05975672492736819),\n",
              " ('product_status_2', 0.046976722421711956),\n",
              " ('phone_model_detail_galaxy s7 edge', 0.029719998913696578),\n",
              " ('phone_model_storage_64gb', 0.02771477947452837),\n",
              " ('phone_model_detail_galaxy note5', 0.025789202804645927),\n",
              " ('phone_model_detail_galaxy s7', 0.023441580376103083),\n",
              " ('product_status_0', 0.021822403762199266)]"
            ]
          },
          "metadata": {},
          "execution_count": 40
        },
        {
          "output_type": "display_data",
          "data": {
            "image/png": "[encoded data removed]",
            "text/plain": [
              "<Figure size 432x288 with 1 Axes>"
            ]
          },
          "metadata": {
            "needs_background": "light"
          }
        }
      ]
    },
    {
      "cell_type": "markdown",
      "metadata": {
        "id": "xC1PPa0_nwAi"
      },
      "source": [
        "------"
      ]
    },
    {
      "cell_type": "markdown",
      "metadata": {
        "id": "m3ZK1J0cnwAi"
      },
      "source": [
        "##### feature-index 관련 딕셔너리 생성"
      ]
    },
    {
      "cell_type": "code",
      "metadata": {
        "id": "bS_suyutnwAi",
        "colab": {
          "base_uri": "https://localhost:8080/"
        },
        "outputId": "51d68231-a943-473f-d2f5-7cb67641be5e"
      },
      "source": [
        "# 프로그램에서 입력값에 대한 피처를 찾기 위한 딕셔너리를 생성합니다.\n",
        "col_to_index_dict = {}\n",
        "for idx, col in enumerate(df.columns[1:]):\n",
        "    col_to_index_dict[col] = idx\n",
        "    \n",
        "print(str(col_to_index_dict)[:40], \"...\")"
      ],
      "execution_count": 41,
      "outputs": [
        {
          "output_type": "stream",
          "name": "stdout",
          "text": [
            "{'factory_price': 0, 'price_index': 1, ' ...\n"
          ]
        }
      ]
    },
    {
      "cell_type": "markdown",
      "metadata": {
        "id": "zqdLg_zjnwAi"
      },
      "source": [
        "-----"
      ]
    },
    {
      "cell_type": "markdown",
      "metadata": {
        "id": "aC_0eNDenwAj"
      },
      "source": [
        "##### 예측 결과 scatter plot"
      ]
    },
    {
      "cell_type": "code",
      "metadata": {
        "id": "DTJ4r5agnwAj",
        "colab": {
          "base_uri": "https://localhost:8080/",
          "height": 307
        },
        "outputId": "5eb33460-ef74-40ed-fd92-2ded3cd66d12"
      },
      "source": [
        "# 테스트 데이터의 y값과, 예측된 y값을 scatter plot을 활용하여 상관관계를 살펴봅니다.\n",
        "plt.scatter(y_test.values, y_test_pred)"
      ],
      "execution_count": 42,
      "outputs": [
        {
          "output_type": "execute_result",
          "data": {
            "text/plain": [
              "<matplotlib.collections.PathCollection at 0x7f4d8571fc50>"
            ]
          },
          "metadata": {},
          "execution_count": 42
        },
        {
          "output_type": "display_data",
          "data": {
            "image/png": "[encoded data removed]",
            "text/plain": [
              "<Figure size 432x288 with 1 Axes>"
            ]
          },
          "metadata": {
            "needs_background": "light"
          }
        }
      ]
    },
    {
      "cell_type": "markdown",
      "metadata": {
        "id": "YIFY52wTnwAj"
      },
      "source": [
        "-----"
      ]
    },
    {
      "cell_type": "markdown",
      "metadata": {
        "id": "wguhUuxDnwAj"
      },
      "source": [
        "### [최적의 모델 파라미터 찾기]"
      ]
    },
    {
      "cell_type": "code",
      "metadata": {
        "id": "0uau-4dPnwAj",
        "colab": {
          "base_uri": "https://localhost:8080/"
        },
        "outputId": "70537200-86c2-49d9-bceb-3ecec692a733"
      },
      "source": [
        "from sklearn.model_selection import RandomizedSearchCV\n",
        "\n",
        "# Randomized Search로 찾아낼 파라미터 후보군을 각각 리스트로 선정합니다.\n",
        "n_estimators = [int(x) for x in np.linspace(start = 200, stop = 2000, num = 10)]\n",
        "max_features = ['auto', 'sqrt']\n",
        "max_depth = [int(x) for x in np.linspace(10, 110, num = 11)]\n",
        "max_depth.append(None)\n",
        "bootstrap = [True, False]\n",
        "\n",
        "# RandomizedSearchCV 오브젝트를 생성하여 모델을 정의합니다.\n",
        "random_grid = {'n_estimators': n_estimators,\n",
        "               'max_features': max_features,\n",
        "               'max_depth': max_depth,\n",
        "               'bootstrap': bootstrap}\n",
        "forest = RandomForestRegressor()\n",
        "optimal_forest = RandomizedSearchCV(estimator = forest, \n",
        "                                    param_distributions = random_grid, \n",
        "                                    n_iter = 100, \n",
        "                                    cv = 3, \n",
        "                                    verbose=2,\n",
        "                                    random_state=42, \n",
        "                                    n_jobs = -1)\n",
        "\n",
        "# RandomizedSearchCV 모델을 학습합니다.\n",
        "X = df.loc[:, df.columns != 'price']\n",
        "y = df['price']\n",
        "optimal_forest.fit(X, y)"
      ],
      "execution_count": null,
      "outputs": [
        {
          "output_type": "stream",
          "name": "stdout",
          "text": [
            "Fitting 3 folds for each of 100 candidates, totalling 300 fits\n"
          ]
        },
        {
          "output_type": "stream",
          "name": "stderr",
          "text": [
            "[Parallel(n_jobs=-1)]: Using backend LokyBackend with 2 concurrent workers.\n"
          ]
        }
      ]
    },
    {
      "cell_type": "markdown",
      "metadata": {
        "id": "LDNUhpMTnwAj"
      },
      "source": [
        "-----"
      ]
    },
    {
      "cell_type": "markdown",
      "metadata": {
        "id": "7u-yNx-vnwAj"
      },
      "source": [
        "##### 최적 파라미터 출력"
      ]
    },
    {
      "cell_type": "code",
      "metadata": {
        "id": "J49HcI1ynwAj",
        "outputId": "75574f45-5a74-47f1-fcf1-848e8281dea2"
      },
      "source": [
        "# 앞서 선정한 파라미터 후보군 중에서 가장 좋은 결과를 보인 파라미터의 조합을 출력합니다.\n",
        "optimal_forest.best_params_"
      ],
      "execution_count": null,
      "outputs": [
        {
          "data": {
            "text/plain": [
              "{'n_estimators': 2000,\n",
              " 'max_features': 'auto',\n",
              " 'max_depth': 10,\n",
              " 'bootstrap': False}"
            ]
          },
          "execution_count": 37,
          "metadata": {},
          "output_type": "execute_result"
        }
      ]
    },
    {
      "cell_type": "markdown",
      "metadata": {
        "id": "Ypr2sJ7ynwAk"
      },
      "source": [
        "-----"
      ]
    },
    {
      "cell_type": "markdown",
      "metadata": {
        "id": "5HF-KG7-nwAk"
      },
      "source": [
        "##### 최적 모델 학습 결과"
      ]
    },
    {
      "cell_type": "code",
      "metadata": {
        "id": "xbPjrSDKnwAk",
        "outputId": "8aa76ad0-1046-4b95-eec2-21fd57495d94"
      },
      "source": [
        "# 최적의 파라미터를 적용한 모델로 중고폰의 가격을 예측하고 평가합니다.\n",
        "y_train_pred = optimal_forest.predict(X_train)\n",
        "y_test_pred = optimal_forest.predict(X_test)\n",
        "print('MSE train: %.3f, test: %.3f' % (\n",
        "        mean_squared_error(y_train, y_train_pred),\n",
        "        mean_squared_error(y_test, y_test_pred)))\n",
        "print('R^2 train: %.3f, test: %.3f' % (\n",
        "        r2_score(y_train, y_train_pred),\n",
        "        r2_score(y_test, y_test_pred)))\n",
        "\n",
        "# 가격 예측 모델의 피처 중요도 plot을 출력합니다.\n",
        "importances = optimal_forest.best_estimator_.feature_importances_\n",
        "indices = np.argsort(importances)[::-1]\n",
        "plt.bar(range(X.shape[1]), importances[indices])\n",
        "\n",
        "# 가격 예측 모델의 피처 중요도를 출력합니다.\n",
        "feat_labels = X.columns.tolist()\n",
        "feature = list(zip(feat_labels, optimal_forest.best_estimator_.feature_importances_))\n",
        "sorted(feature, key=lambda tup: tup[1], reverse=True)[:10]"
      ],
      "execution_count": null,
      "outputs": [
        {
          "name": "stdout",
          "output_type": "stream",
          "text": [
            "MSE train: 8808354045.702, test: 7645656836.366\n",
            "R^2 train: 0.818, test: 0.825\n"
          ]
        },
        {
          "data": {
            "text/plain": [
              "[('factory_price', 0.2966164353104056),\n",
              " ('maker_apple', 0.27561463412189996),\n",
              " ('phone_model_storage_16gb', 0.07214696532862486),\n",
              " ('create_time_score', 0.06578879827712547),\n",
              " ('product_status_2', 0.06263063701859779),\n",
              " ('phone_model_detail_galaxy s7 edge', 0.027077100983153128),\n",
              " ('phone_model_detail_iphone 6', 0.025040727932558345),\n",
              " ('product_status_0', 0.024218401078376407),\n",
              " ('phone_model_detail_galaxy s4', 0.020530252999408975),\n",
              " ('product_status_1', 0.014037178063937584)]"
            ]
          },
          "execution_count": 38,
          "metadata": {},
          "output_type": "execute_result"
        },
        {
          "data": {
            "image/png": "[encoded data removed]",
            "text/plain": [
              "<Figure size 432x288 with 1 Axes>"
            ]
          },
          "metadata": {
            "needs_background": "light"
          },
          "output_type": "display_data"
        }
      ]
    },
    {
      "cell_type": "markdown",
      "metadata": {
        "id": "sStWpqLPnwAk"
      },
      "source": [
        "-----"
      ]
    },
    {
      "cell_type": "markdown",
      "metadata": {
        "id": "P9qHwpWYnwAk"
      },
      "source": [
        "##### 예측 결과 scatter plot"
      ]
    },
    {
      "cell_type": "code",
      "metadata": {
        "id": "rAP3xdJ1nwAk",
        "outputId": "e2dc6703-1344-4c83-b48b-b0f86ea22459"
      },
      "source": [
        "# 테스트 데이터의 y값과, 예측된 y값을 scatter plot을 활용하여 상관관계를 살펴봅니다.\n",
        "plt.scatter(y_test.values, y_test_pred)"
      ],
      "execution_count": null,
      "outputs": [
        {
          "data": {
            "text/plain": [
              "<matplotlib.collections.PathCollection at 0x7fb2a9842970>"
            ]
          },
          "execution_count": 39,
          "metadata": {},
          "output_type": "execute_result"
        },
        {
          "data": {
            "image/png": "[encoded data removed]",
            "text/plain": [
              "<Figure size 432x288 with 1 Axes>"
            ]
          },
          "metadata": {
            "needs_background": "light"
          },
          "output_type": "display_data"
        }
      ]
    },
    {
      "cell_type": "markdown",
      "metadata": {
        "id": "o7bNIj3SnwAk"
      },
      "source": [
        "-----"
      ]
    },
    {
      "cell_type": "markdown",
      "metadata": {
        "id": "gqwyV4GknwAk"
      },
      "source": [
        "# <Step4. 프로토타입> : 얼마고(Almhago?)"
      ]
    },
    {
      "cell_type": "markdown",
      "metadata": {
        "id": "gzqKzvX_nwAl"
      },
      "source": [
        "### [재사용을 위한 파일 저장]"
      ]
    },
    {
      "cell_type": "code",
      "metadata": {
        "id": "q_Z56RMYnwAl",
        "outputId": "e3fbcec0-f358-4a9b-ae08-a55b71ef63d5"
      },
      "source": [
        "import joblib\n",
        "\n",
        "# 모델 예측을 위한 중간 오브젝트들을 각각 파일로 저장합니다.\n",
        "with open('../data/used_mobile_pickles/model_to_factory_price_dict.pickle', 'wb') as f:\n",
        "    pickle.dump(model_to_factory_price_dict, f, pickle.HIGHEST_PROTOCOL)\n",
        "    \n",
        "with open('../data/used_mobile_pickles/col_to_index_dict.pickle', 'wb') as f:\n",
        "    pickle.dump(col_to_index_dict, f, pickle.HIGHEST_PROTOCOL)\n",
        "    \n",
        "with open('../data/used_mobile_pickles/common_words.pickle', 'wb') as f:\n",
        "    pickle.dump(common_words, f, pickle.HIGHEST_PROTOCOL)\n",
        "    \n",
        "with open('../data/used_mobile_pickles/init_vectorizer_vocabulary.pickle', 'wb') as f:\n",
        "    pickle.dump(index_vectorizer.vocabulary_, f, pickle.HIGHEST_PROTOCOL)\n",
        "    \n",
        "with open('../data/used_mobile_pickles/tfidf_vectorizer.pickle', 'wb') as f:\n",
        "    pickle.dump(tfidf_vectorizer, f, pickle.HIGHEST_PROTOCOL)\n",
        "    \n",
        "with open('../data/used_mobile_pickles/svm_classifier.pickle', 'wb') as f:\n",
        "    pickle.dump(svm, f, pickle.HIGHEST_PROTOCOL)\n",
        "\n",
        "joblib.dump(optimal_forest.best_estimator_, '../data/used_mobile_pickles/rf_regressor.pickle', compress = 1)"
      ],
      "execution_count": null,
      "outputs": [
        {
          "data": {
            "text/plain": [
              "['../data/used_mobile_pickles/rf_regressor.pickle']"
            ]
          },
          "execution_count": 41,
          "metadata": {},
          "output_type": "execute_result"
        }
      ]
    },
    {
      "cell_type": "markdown",
      "metadata": {
        "id": "qv6XyRBynwAl"
      },
      "source": [
        "-----"
      ]
    },
    {
      "cell_type": "markdown",
      "metadata": {
        "id": "Tg5pz-GZnwAl"
      },
      "source": [
        "### [가격 예측 프로그램 만들기]"
      ]
    },
    {
      "cell_type": "markdown",
      "metadata": {
        "id": "PVVoKQo7nwAl"
      },
      "source": [
        "##### 예측에 필요한 파일 로드"
      ]
    },
    {
      "cell_type": "code",
      "metadata": {
        "id": "yG0fnZ1ynwAl"
      },
      "source": [
        "import pickle\n",
        "\n",
        "with open('../data/used_mobile_pickles/model_to_factory_price_dict.pickle', 'rb') as f:\n",
        "    model_to_factory_price_dict = pickle.load(f)\n",
        "    \n",
        "with open('../data/used_mobile_pickles/col_to_index_dict.pickle', 'rb') as f:\n",
        "    col_to_index_dict = pickle.load(f)\n",
        "    \n",
        "with open('../data/used_mobile_pickles/common_words.pickle', 'rb') as f:\n",
        "    common_words = pickle.load(f)\n",
        "\n",
        "with open('../data/used_mobile_pickles/init_vectorizer_vocabulary.pickle', 'rb') as f:\n",
        "    init_vectorizer_vocabulary = pickle.load(f)\n",
        "    \n",
        "with open('../data/used_mobile_pickles/tfidf_vectorizer.pickle', 'rb') as f:\n",
        "    tfidf_vectorizer = pickle.load(f)\n",
        "    \n",
        "with open('../data/used_mobile_pickles/svm_classifier.pickle', 'rb') as f:\n",
        "    svm_classifier = pickle.load(f)\n",
        "\n",
        "rf_regressor = joblib.load('../data/used_mobile_pickles/rf_regressor.pickle')"
      ],
      "execution_count": null,
      "outputs": []
    },
    {
      "cell_type": "markdown",
      "metadata": {
        "id": "9-hdotRonwAl"
      },
      "source": [
        "-----"
      ]
    },
    {
      "cell_type": "markdown",
      "metadata": {
        "id": "CrwqEaMsnwAl"
      },
      "source": [
        "##### 프로그램(클래스) 만들기"
      ]
    },
    {
      "cell_type": "code",
      "metadata": {
        "id": "WN7BkCpHnwAm"
      },
      "source": [
        "import numpy as np\n",
        "\n",
        "from konlpy.tag import Okt\n",
        "from sklearn.feature_extraction.text import CountVectorizer\n",
        "from sklearn.feature_extraction.text import TfidfTransformer\n",
        "from sklearn.svm import SVC\n",
        "from sklearn.ensemble import RandomForestRegressor\n",
        "from sklearn.model_selection import RandomizedSearchCV\n",
        "\n",
        "\n",
        "class Almhago():\n",
        "    def __init__(self, model_to_factory_price_dict, col_to_index_dict, \n",
        "                 common_words, init_vectorizer_vocabulary, tfidf_vectorizer, \n",
        "                 prd_status_classifier, price_regressor):\n",
        "        self._model_to_factory_price_dict = model_to_factory_price_dict\n",
        "        self._col_to_index_dict = col_to_index_dict\n",
        "        self._common_words = common_words\n",
        "        self._init_vectorizer_vocabulary = init_vectorizer_vocabulary\n",
        "        self._index_vectorizer = self._init_index_vectorizer()\n",
        "        self._tfidf_vectorizer = tfidf_vectorizer\n",
        "        self._prd_status_classifier = prd_status_classifier\n",
        "        self._price_regressor = price_regressor\n",
        "        \n",
        "    def _get_common_pos(self, x):\n",
        "        tagger = Okt()\n",
        "        poses = tagger.pos(x)\n",
        "        return [pos[0] for pos in poses if pos[0] in self._common_words]\n",
        "    \n",
        "    def _text_cleaning(self, text):\n",
        "        text = ''.join(c for c in text if c.isalnum() or c in '+, ')\n",
        "        text = ''.join([i for i in text if not i.isdigit()])\n",
        "        return text\n",
        "        \n",
        "    def _init_index_vectorizer(self):\n",
        "        word_index_vectorizer = CountVectorizer(tokenizer = lambda x: self._get_common_pos(x))\n",
        "        word_index_vectorizer.vocabulary_ = self._init_vectorizer_vocabulary\n",
        "        return word_index_vectorizer\n",
        "    \n",
        "    def _get_ftr_price(self, model_name, storage):\n",
        "        return self._model_to_factory_price_dict[(model_name, storage)]\n",
        "    \n",
        "    def _get_prd_status(self, text):\n",
        "        X = self._index_vectorizer.transform([self._text_cleaning(program_test_dict['text'])])\n",
        "        X = self._tfidf_vectorizer.transform(X)\n",
        "        return self._prd_status_classifier.predict(X)[0]\n",
        "    \n",
        "    def _print_almhago(self, model, price, prd_status):\n",
        "        status = \"\"\n",
        "        if prd_status == \"0\":\n",
        "            status = \"불량한\"\n",
        "        elif prd_status == \"1\":\n",
        "            status = \"양호한\"\n",
        "        else:\n",
        "            status = \"좋은\"\n",
        "        print(\"선택하신\", model, \"모델은\", status, \"상태입니다. Almhago 예상 가격은\", str(int(price[0])), \"원 입니다.\")\n",
        "    \n",
        "    def predict(self, input_dict):\n",
        "        feature = np.zeros(64)\n",
        "        feature[self._col_to_index_dict['factory_price']] = self._get_ftr_price(input_dict['phone_model_detail'],\n",
        "                                                                                input_dict['phone_model_storage'])\n",
        "        feature[self._col_to_index_dict['price_index']] = input_dict['price_index']\n",
        "        feature[self._col_to_index_dict['create_time_score']] = input_dict['create_time_score']\n",
        "        feature[self._col_to_index_dict[\"_\".join([\"maker\", input_dict['maker']])]] = 1\n",
        "        feature[self._col_to_index_dict[\"_\".join([\"phone_model_detail\", input_dict['phone_model_detail']])]] = 1\n",
        "        feature[self._col_to_index_dict[\"_\".join([\"phone_model_storage\", input_dict['phone_model_storage']])]] = 1\n",
        "        feature[self._col_to_index_dict[\"_\".join([\"product_status\", self._get_prd_status(input_dict['text'])])]] = 1\n",
        "        \n",
        "        # predict result\n",
        "        predicted_price = self._price_regressor.predict([feature])\n",
        "        self._print_almhago(input_dict['phone_model_detail'], \n",
        "                            predicted_price, \n",
        "                            self._get_prd_status(input_dict['text']))"
      ],
      "execution_count": null,
      "outputs": []
    },
    {
      "cell_type": "markdown",
      "metadata": {
        "id": "L17m0KjvnwAm"
      },
      "source": [
        "-----"
      ]
    },
    {
      "cell_type": "markdown",
      "metadata": {
        "id": "18QdhysbnwAm"
      },
      "source": [
        "##### 프로그램 테스트"
      ]
    },
    {
      "cell_type": "code",
      "metadata": {
        "id": "pO1Vd0AvnwAm",
        "outputId": "049f3fb9-fdc1-49f3-8387-8c05d3e562b3"
      },
      "source": [
        "# 데이터의 가장 최근 시점인 2017년 4월을 기준으로 하기 위한 두 개(price_index, create_time_score)의 피처를 정의합니다.\n",
        "recent_price_index = 95.96\n",
        "recent_create_time_score = 1.0\n",
        "\n",
        "# 판매 가격을 예측하고자 하는 메이커, 기종, 용량을 입력하고, 상품의 상태를 나타내는 게시글을 입력합니다.\n",
        "program_test_dict = {\"maker\": \"apple\",\n",
        "                     \"phone_model_detail\": \"iphone 6\",\n",
        "                     \"phone_model_storage\": \"16gb\",\n",
        "                     \"text\": '아이폰6 스페이스그레이 16기가 10만원에 팔아요~ 직접거래 \\\n",
        "                     메인보드 세척 완료 한 침수 폰 입니다폰 안켜지는 상테이구요 고쳐서 쓰실분 가져가세요10만원에 팔아요 \\\n",
        "                     리퍼한지 얼마안되서 기스 이런거 하나도 없습니당~서울 강남 근처 직거래 가능하며택배거래도 가능해요',\n",
        "                     \"price_index\": recent_price_index,\n",
        "                     \"create_time_score\": recent_create_time_score}\n",
        "\n",
        "# 정의한 피처를 파라미터로 하여 almhago 오브젝트를 생성합니다.\n",
        "almhago = Almhago(model_to_factory_price_dict, col_to_index_dict, \n",
        "                  common_words, init_vectorizer_vocabulary, tfidf_vectorizer, \n",
        "                  svm_classifier, rf_regressor)\n",
        "\n",
        "# 입력한 데이터로 판매 가격을 예측합니다.\n",
        "almhago.predict(program_test_dict)"
      ],
      "execution_count": null,
      "outputs": [
        {
          "name": "stdout",
          "output_type": "stream",
          "text": [
            "선택하신 iphone 6 모델은 불량한 상태입니다. Almhago 예상 가격은 152307 원 입니다.\n"
          ]
        }
      ]
    }
  ]
}